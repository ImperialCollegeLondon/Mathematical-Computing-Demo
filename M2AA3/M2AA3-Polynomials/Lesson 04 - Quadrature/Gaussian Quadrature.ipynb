{
 "cells": [
  {
   "cell_type": "code",
   "execution_count": 25,
   "metadata": {},
   "outputs": [],
   "source": [
    "#Setup for Sympy\n",
    "import sympy as sp\n",
    "import numpy as np"
   ]
  },
  {
   "cell_type": "markdown",
   "metadata": {},
   "source": [
    "So far we have seen Trapezoidal Rule and Simpson Rule. In general, we may approximate the integral $$I = \\int_a^b w(x) f(x) dx$$\n",
    "where $w \\in C^0([a,b]), w>0$ and $w \\in L^1((a,b))$ is a weight function, and $f \\in L^1((a,b),w)$, by approximating $f$ as a polynomial. \n",
    "\n",
    "We may approximate $f$ with $n$-th order Largrange polynomial (sampling points $(x_i)_{i=0}^{k+1}$):\n",
    "\\begin{equation}\n",
    "f(x) \\approx \\sum_{i=0}^n f(x_i) \\ell_i(x) \\quad \\ell_i(x) = \\prod_{0\\leq j \\leq i, \\, j \\neq i} \\frac{x-x_j}{x_i-x_j}\n",
    "\\end{equation}\n",
    "\n",
    "Then\n",
    "\\begin{equation}\n",
    "\\int_a^b w(x)f(x)dx \\approx I_n = \\sum_{i=0}^n f(x_i) \\left(\\int_a^b w(x) \\ell_i(x) dx \\right) = \\sum_{i=0}^n w_i f(x_i) \n",
    "\\end{equation}\n",
    "\n",
    "We want to choose $(x_i)_{i=0}^n$ such that $I_n(f) = I(f)$ for $f$ polynomial of degree at most $m$, $m>n$ is maximised."
   ]
  },
  {
   "cell_type": "markdown",
   "metadata": {},
   "source": [
    "Turns out that if we choose roots of $\\phi_{n+1}(x)$ (with $n+1$ degree), so that it belongs to the orthogonal basis of $L^2((a,b))$ (w.r.t. $\\langle f,g \\rangle = \\int_a^b w(x) f(x)g(x) dx$, then $I_n(f) = I(f)$, $f$ any polynomial of degree at most $2n+1$. <br> \n",
    "Moreover, we can check by substituting $f = (\\ell_i)^2$ that $w_i > 0$. We can find $w_i$ by such substitution, but this is usually tedious. Instead, we find $w_i$ by substituting $f = 1, x, x^2, ..., x_n$ and solve the simultaneous equation."
   ]
  },
  {
   "cell_type": "markdown",
   "metadata": {},
   "source": [
    "# Example 1\n",
    "Let $f \\in L^2([-1,1])$ and $w(x) = 1+4|x|$. Construct $I_2(f)$. "
   ]
  },
  {
   "cell_type": "markdown",
   "metadata": {},
   "source": [
    "1. Construct Orthogonal Basis: Recall the following formula:\n",
    "$$\\phi_j(x) = \\bigg(x - \\frac{\\langle x\\phi_{j-1}(x),\\phi_{j-1}(x) \\rangle}{\\|\\phi_{j-1}(x)\\|^2} \\bigg)\\phi_{j-1}(x) - \\frac{\\|\\phi_{j-1}(x)\\|^2}{\\|\\phi_{j-2}(x)\\|^2}\\phi_{j-2}(x), j \\geq 1$$\n",
    "where $\\phi_{-1}(x)=0$ and $\\phi_{0}(x)=1$."
   ]
  },
  {
   "cell_type": "code",
   "execution_count": 2,
   "metadata": {},
   "outputs": [],
   "source": [
    "# Define Symbols for inner product and norm\n",
    "x = sp.symbols('x')\n",
    "w = sp.Function('w')\n",
    "f = sp.Function('f')\n",
    "g = sp.Function('g')"
   ]
  },
  {
   "cell_type": "code",
   "execution_count": 3,
   "metadata": {},
   "outputs": [],
   "source": [
    "# inner product and norms\n",
    "def inner(w,a,b,f,g):\n",
    "    output = sp.integrate(w*f*g, (x,a,b))\n",
    "    return output\n",
    "\n",
    "def norm(w,a,b,f):\n",
    "    return sp.sqrt(inner(w,a,b,f,f))"
   ]
  },
  {
   "cell_type": "code",
   "execution_count": 4,
   "metadata": {},
   "outputs": [],
   "source": [
    "# Define symbols for basis\n",
    "phi = sp.Function('phi')\n",
    "phiminus1 = sp.Function('phiminus1')\n",
    "phiminus2 = sp.Function('phiminus2')"
   ]
  },
  {
   "cell_type": "code",
   "execution_count": 5,
   "metadata": {},
   "outputs": [],
   "source": [
    "# Iteration\n",
    "def ortho(w,a,b,r):\n",
    "    phiminus2 = 1\n",
    "    phiminus1 = x - inner(w,a,b,x,1)/(norm(w,a,b,1))**2\n",
    "    if r == 0:\n",
    "        return [phiminus2]\n",
    "    elif r == 1:\n",
    "        return [phiminus2,phiminus1]\n",
    "    else:\n",
    "        philist = [phiminus2,phiminus1]\n",
    "        for i in range(r-1):\n",
    "            phi = (x - inner(w,a,b,x*phiminus1,phiminus1)/(norm(w,a,b,phiminus1))**2)*phiminus1 - ((norm(w,a,b,phiminus1)/norm(w,a,b,phiminus2))**2)*phiminus2\n",
    "            phi = sp.simplify(phi)\n",
    "            philist.append(phi)\n",
    "            phiminus2 = phiminus1\n",
    "            phiminus1 = phi\n",
    "    return philist"
   ]
  },
  {
   "cell_type": "code",
   "execution_count": 21,
   "metadata": {},
   "outputs": [
    {
     "data": {
      "text/plain": [
       "[1, x, x**2 - 4/9, x*(x**2 - 13/20)]"
      ]
     },
     "execution_count": 21,
     "metadata": {},
     "output_type": "execute_result"
    }
   ],
   "source": [
    "# Compute the basis, up to order 2+1 = 3\n",
    "olist = ortho(1+4*sp.Abs(x),-1,1,3) \n",
    "olist"
   ]
  },
  {
   "cell_type": "markdown",
   "metadata": {},
   "source": [
    "2. Compute the roots of $\\phi_3(x)$, as $x_0, x_1, x_2$."
   ]
  },
  {
   "cell_type": "code",
   "execution_count": 31,
   "metadata": {},
   "outputs": [
    {
     "data": {
      "text/plain": [
       "[0, -sqrt(65)/10, sqrt(65)/10]"
      ]
     },
     "execution_count": 31,
     "metadata": {},
     "output_type": "execute_result"
    }
   ],
   "source": [
    "rootlist = sp.solve(olist[3],x)\n",
    "rootlist"
   ]
  },
  {
   "cell_type": "markdown",
   "metadata": {},
   "source": [
    "3. Compute $b_0 = I(1), \\, b_1 = I(x), \\, b_2 = I(x^2)$"
   ]
  },
  {
   "cell_type": "code",
   "execution_count": 23,
   "metadata": {},
   "outputs": [
    {
     "data": {
      "text/latex": [
       "$\\displaystyle \\left[\\begin{matrix}6\\\\0\\\\\\frac{8}{3}\\end{matrix}\\right]$"
      ],
      "text/plain": [
       "Matrix([\n",
       "[  6],\n",
       "[  0],\n",
       "[8/3]])"
      ]
     },
     "execution_count": 23,
     "metadata": {},
     "output_type": "execute_result"
    }
   ],
   "source": [
    "w = 1+4*sp.Abs(x)\n",
    "b0 = sp.integrate(w,(x,-1,1))\n",
    "b1 = sp.integrate(x*w,(x,-1,1))\n",
    "b2 = sp.integrate((x**2)*w,(x,-1,1))\n",
    "b = sp.Matrix([b0,b1,b2])\n",
    "b"
   ]
  },
  {
   "cell_type": "markdown",
   "metadata": {},
   "source": [
    "4. Compute $w_0, w_1, w_2$ by solving\n",
    "\\begin{equation}\n",
    "\\begin{cases}\n",
    "w_0 + w_1 + w_2 = b_0 \\\\\n",
    "w_0 x_0 + w_1 x_1 + w_2 x_2 = b_1 \\\\\n",
    "w_0 x_0^2 + w_1 x_1^2 + w_2 x_2^2 = b_2\n",
    "\\end{cases}\n",
    "\\end{equation}"
   ]
  },
  {
   "cell_type": "code",
   "execution_count": 29,
   "metadata": {},
   "outputs": [
    {
     "data": {
      "text/latex": [
       "$\\displaystyle \\left[\\begin{matrix}1 & 1 & 1\\\\0 & - \\frac{\\sqrt{65}}{10} & \\frac{\\sqrt{65}}{10}\\\\0 & \\frac{13}{20} & \\frac{13}{20}\\end{matrix}\\right]$"
      ],
      "text/plain": [
       "Matrix([\n",
       "[1,            1,           1],\n",
       "[0, -sqrt(65)/10, sqrt(65)/10],\n",
       "[0,        13/20,       13/20]])"
      ]
     },
     "execution_count": 29,
     "metadata": {},
     "output_type": "execute_result"
    }
   ],
   "source": [
    "A = sp.Matrix([[1,1,1],[rootlist[0],rootlist[1],rootlist[2]], [rootlist[0]**2,rootlist[1]**2,rootlist[2]**2]])\n",
    "A"
   ]
  },
  {
   "cell_type": "code",
   "execution_count": 30,
   "metadata": {},
   "outputs": [
    {
     "data": {
      "text/latex": [
       "$\\displaystyle \\left\\{\\left( \\frac{74}{39}, \\  \\frac{80}{39}, \\  \\frac{80}{39}\\right)\\right\\}$"
      ],
      "text/plain": [
       "FiniteSet((74/39, 80/39, 80/39))"
      ]
     },
     "execution_count": 30,
     "metadata": {},
     "output_type": "execute_result"
    }
   ],
   "source": [
    "w0, w1, w2 = sp.symbols('w0,w1,w2')\n",
    "sp.linsolve((A,b),[w0,w1,w2])"
   ]
  },
  {
   "cell_type": "markdown",
   "metadata": {},
   "source": [
    "# Please edit below"
   ]
  },
  {
   "cell_type": "code",
   "execution_count": 16,
   "metadata": {},
   "outputs": [],
   "source": [
    "w = 1+x**2\n",
    "a = 0\n",
    "b = 2\n",
    "n = 0"
   ]
  },
  {
   "cell_type": "code",
   "execution_count": 17,
   "metadata": {},
   "outputs": [
    {
     "data": {
      "text/plain": [
       "[1, x - 9/7]"
      ]
     },
     "execution_count": 17,
     "metadata": {},
     "output_type": "execute_result"
    }
   ],
   "source": [
    "# Compute the basis, up to order n+1\n",
    "olist = ortho(w,a,b,n+1) \n",
    "olist"
   ]
  },
  {
   "cell_type": "code",
   "execution_count": 18,
   "metadata": {},
   "outputs": [
    {
     "data": {
      "text/plain": [
       "[9/7]"
      ]
     },
     "execution_count": 18,
     "metadata": {},
     "output_type": "execute_result"
    }
   ],
   "source": [
    "# Compute root of phi(n+1)\n",
    "rootlist = sp.solve(olist[1],x)\n",
    "rootlist"
   ]
  },
  {
   "cell_type": "code",
   "execution_count": 19,
   "metadata": {},
   "outputs": [
    {
     "data": {
      "text/latex": [
       "$\\displaystyle \\frac{14}{3}$"
      ],
      "text/plain": [
       "14/3"
      ]
     },
     "execution_count": 19,
     "metadata": {},
     "output_type": "execute_result"
    }
   ],
   "source": [
    "# Compute actual value of I(f) for f = 1, x,...\n",
    "b0 = sp.integrate(w,(x,0,2))\n",
    "b0"
   ]
  },
  {
   "cell_type": "code",
   "execution_count": 20,
   "metadata": {},
   "outputs": [
    {
     "data": {
      "text/latex": [
       "$\\displaystyle \\frac{14}{3}$"
      ],
      "text/plain": [
       "14/3"
      ]
     },
     "execution_count": 20,
     "metadata": {},
     "output_type": "execute_result"
    }
   ],
   "source": [
    "# Compute weight by solving equation\n",
    "w0 = b0\n",
    "w0"
   ]
  }
 ],
 "metadata": {
  "kernelspec": {
   "display_name": "Python 3",
   "language": "python",
   "name": "python3"
  },
  "language_info": {
   "codemirror_mode": {
    "name": "ipython",
    "version": 3
   },
   "file_extension": ".py",
   "mimetype": "text/x-python",
   "name": "python",
   "nbconvert_exporter": "python",
   "pygments_lexer": "ipython3",
   "version": "3.7.6"
  }
 },
 "nbformat": 4,
 "nbformat_minor": 2
}
