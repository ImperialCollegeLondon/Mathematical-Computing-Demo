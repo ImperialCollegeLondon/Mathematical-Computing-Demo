{
 "cells": [
  {
   "cell_type": "markdown",
   "metadata": {},
   "source": [
    "# M2AA3 Chapter 3, Lesson 4 - Trapezoidal Rule"
   ]
  },
  {
   "cell_type": "code",
   "execution_count": 1,
   "metadata": {},
   "outputs": [],
   "source": [
    "import numpy as np"
   ]
  },
  {
   "cell_type": "markdown",
   "metadata": {},
   "source": [
    "Given real-valued and analytical function $f(x)$. We would like to estimate the integral\n",
    "$$\\int_a^b f(x) dx$$\n",
    "Choose sampling points $a = x_0 < x_1 < x_2 < ... < x_n = b$. Then \n",
    "$$\\int_a^b f(x) dx = \\sum_{i=0}^{n-1} \\int_{x_i}^{x_{i+1}} f(x) dx$$\n",
    "And estimate each terms by fitting a trapezium - \n",
    "$$\\int_{x_i}^{x_{i+1}} f(x) dx = \\frac{(f(x_i) + f(x_{i+1}))(x_{i+1}-x_i)}{2}$$\n",
    "In practice we assume that $\\forall i, x_{i+1} - x_i = h = \\frac{b-a}{n}$, i.e. the Trapeziums have constant width.\n",
    "Then the integral simplifies to\n",
    "$$\\int_a^b f(x) dx = \\frac{h}{2}((f(x_0) + f(x_1)) + (f(x_1) + f(x_2)) + ... + (f(x_{n-1}) + f(x_n)))$$\n",
    "\n",
    "To implement the Trapezoidal Rule, the best way to do is to use vectorization."
   ]
  },
  {
   "cell_type": "code",
   "execution_count": 2,
   "metadata": {},
   "outputs": [],
   "source": [
    "def trapezium(f,a,b,n):\n",
    "    h = (b-a)/n  # Width of Trapezium\n",
    "    tot = f(a) + f(b) + 2*(np.sum(f(np.arange(a+h, b, h)))) # Sum\n",
    "    return h*tot/2"
   ]
  },
  {
   "cell_type": "code",
   "execution_count": 3,
   "metadata": {},
   "outputs": [
    {
     "data": {
      "text/plain": [
       "0.9999997943832332"
      ]
     },
     "execution_count": 3,
     "metadata": {},
     "output_type": "execute_result"
    }
   ],
   "source": [
    "trapezium(np.sin, 0, np.pi/2, 1000)"
   ]
  }
 ],
 "metadata": {
  "kernelspec": {
   "display_name": "Python 3",
   "language": "python",
   "name": "python3"
  },
  "language_info": {
   "codemirror_mode": {
    "name": "ipython",
    "version": 3
   },
   "file_extension": ".py",
   "mimetype": "text/x-python",
   "name": "python",
   "nbconvert_exporter": "python",
   "pygments_lexer": "ipython3",
   "version": "3.7.1"
  }
 },
 "nbformat": 4,
 "nbformat_minor": 2
}
