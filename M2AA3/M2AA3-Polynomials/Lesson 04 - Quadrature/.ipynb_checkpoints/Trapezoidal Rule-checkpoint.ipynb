{
 "cells": [
  {
   "cell_type": "markdown",
   "metadata": {},
   "source": [
    "# M2AA3 Chapter 3, Lesson 4 - Trapezoidal Rule"
   ]
  },
  {
   "cell_type": "code",
   "execution_count": 1,
   "metadata": {},
   "outputs": [],
   "source": [
    "import numpy as np"
   ]
  },
  {
   "cell_type": "markdown",
   "metadata": {},
   "source": [
    "Given real-valued and analytical function $f(x)$. We would like to estimate the integral\n",
    "$$\\int_a^b f(x) dx$$\n",
    "Choose sampling points $a = x_0 < x_1 < x_2 < ... < x_n = b$. Then \n",
    "$$\\int_a^b f(x) dx = \\sum_{i=0}^{n-1} \\int_{x_i}^{x_{i+1}} f(x) dx$$\n",
    "And estimate each terms by fitting a trapezium - \n",
    "$$\\int_{x_i}^{x_{i+1}} f(x) dx = \\frac{(f(x_i) + f(x_{i+1}))(x_{i+1}-x_i)}{2}$$\n",
    "In practice we assume that $\\forall i, x_{i+1} - x_i = h = \\frac{b-a}{n}$, i.e. the Trapeziums have constant width.\n",
    "Then the integral simplifies to\n",
    "$$\\int_a^b f(x) dx = \\frac{h}{2}((f(x_0) + f(x_1)) + (f(x_1) + f(x_2)) + ... + (f(x_{n-1}) + f(x_n)))$$\n",
    "\n",
    "To implement the Trapezoidal Rule, the best way to do is to use vectorization."
   ]
  },
  {
   "cell_type": "code",
   "execution_count": 2,
   "metadata": {},
   "outputs": [],
   "source": [
    "def trapezium(f,a,b,n):\n",
    "    h = (b-a)/n  # Width of Trapezium\n",
    "    tot = f(a) + f(b) + 2*(np.sum(f(np.arange(a+h, b, h)))) # Sum\n",
    "    return h*tot/2"
   ]
  },
  {
   "cell_type": "code",
   "execution_count": 3,
   "metadata": {},
   "outputs": [
    {
     "data": {
      "text/plain": [
       "0.9999997943832332"
      ]
     },
     "execution_count": 3,
     "metadata": {},
     "output_type": "execute_result"
    }
   ],
   "source": [
    "trapezium(np.sin, 0, np.pi/2, 1000)"
   ]
  },
  {
   "cell_type": "markdown",
   "metadata": {},
   "source": [
    "To find the total error of approximation, let us first consider the error of approximating ith strip, i.e.\n",
    "$$e_i = \\Bigg| \\int_{x_i}^{x_{i+1}} f(x) dx - \\frac{(x_{i+1}-x_i)(f(x_i)+f(x_{i+1}))}{2} \\Bigg|$$\n",
    "Using the assumption that $\\forall i, x_{i+1} - x_i = h$, one could obtain\n",
    "$$e_i = \\Bigg| \\int_{x_i}^{x_i + h} f(x) dx - \\frac{h(f(x_i)+f(x_i + h))}{2} \\Bigg|$$\n",
    "To obtain error term one could use the Largrange form of Taylor Series, that\n",
    "$$f(x) = f(x_i) + (x-x_i)f'(x_i) + \\frac{(x-x_i)^2}{2}f''(\\xi_{1i})$$\n",
    "where $\\xi_{1i}$ is in between $x_i$ and $x$. In particular, when $x = x_i + h$, then\n",
    "$$f(x_i + h) = f(x_i) + hf'(x_i) + \\frac{h^2}{2}f''(\\xi_{2i})$$\n",
    "where $\\xi_{2i}$ is in between $x_i$ and $x_i+h$. Here $\\xi_{1i}$ may not necessary be equal to $\\xi_{2i}$\n",
    "Therefore\n",
    "$$\\int_{x_i}^{x_i + h} f(x) dx = f(x_i)h + f'(x_i)\\frac{h^2}{2} + f''(\\xi_{1i})\\frac{h^3}{6}$$\n",
    "$$\\frac{h(f(x_i)+f(x_i + h))}{2} = f(x_i)h + f'(x_i)\\frac{h^2}{2} + f''(\\xi_{2i})\\frac{h^3}{4}$$\n",
    "Therefore $$e_i = \\Bigg| f''(\\xi_{1i})\\frac{h^3}{6} - f''(\\xi_{2i})\\frac{h^3}{4} \\Bigg|$$\n",
    "To further simplify, assume that $f''(x) \\leq M$ for all $x \\in [a,b]$. Then $$e_i \\leq \\frac{Mh^3}{12}$$\n",
    "Summing all error we have total error $E$ given as\n",
    "$$E = n\\frac{Mh^3}{12} = Mn\\frac{(b-a)^3}{12n^3} = \\frac{M(b-a)^3}{12n^2}$$"
   ]
  }
 ],
 "metadata": {
  "kernelspec": {
   "display_name": "Python 3",
   "language": "python",
   "name": "python3"
  },
  "language_info": {
   "codemirror_mode": {
    "name": "ipython",
    "version": 3
   },
   "file_extension": ".py",
   "mimetype": "text/x-python",
   "name": "python",
   "nbconvert_exporter": "python",
   "pygments_lexer": "ipython3",
   "version": "3.7.1"
  }
 },
 "nbformat": 4,
 "nbformat_minor": 2
}
