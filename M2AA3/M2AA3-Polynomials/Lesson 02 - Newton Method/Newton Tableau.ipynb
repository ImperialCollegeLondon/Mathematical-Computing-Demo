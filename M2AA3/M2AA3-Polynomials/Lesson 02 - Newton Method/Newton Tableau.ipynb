{
 "cells": [
  {
   "cell_type": "code",
   "execution_count": 8,
   "metadata": {},
   "outputs": [],
   "source": [
    "import sympy as sp\n",
    "import numpy as np"
   ]
  },
  {
   "cell_type": "code",
   "execution_count": 39,
   "metadata": {},
   "outputs": [],
   "source": [
    "x = sp.symbols('x')\n",
    "p = sp.Function('p')\n",
    "l = sp.Function('l')\n",
    "poly = sp.Function('poly')\n",
    "p3 = sp.Function('p3')\n",
    "p4 = sp.Function('p4')"
   ]
  },
  {
   "cell_type": "markdown",
   "metadata": {},
   "source": [
    "# Introduction\n",
    "\n",
    "Last time we have used Lagrange basis to interpolate polynomial. However, it is not efficient to update the interpolating polynomial when a new data point is added. We look at an iterative approach.\n",
    "\n",
    "Given points $\\{(z_i, f_i) \\}_{i=0}^{n-1}$, $z_i$ are distinct and $p_{n-1} \\in \\mathbb{C}[z]_{n-1}\\, , p_{n-1}(z_i) = f_i$. <br> We add a point $(z_n, f_n)$ and find a polynomial $p_n \\in \\mathbb{C}[x]_{n-1}$ which satisfies $\\{(z_i, f_i) \\}_{i=0}^{n}$. "
   ]
  },
  {
   "cell_type": "markdown",
   "metadata": {},
   "source": [
    "We assume $p_n(z)$ be the form\n",
    "\\begin{equation}\n",
    "p_n(z) = p_{n-1}(z) + C\\prod_{i=0}^{n-1}(z - z_i)\n",
    "\\end{equation}\n",
    "so that the second term vanishes at $z = z_0,...,z_{n-1}$ and $p_n(z_i) = p_{n-1}(z_i), i = 0,...,n-1$. We also want $p_n(z_n) = f_n$ so we have\n",
    "\\begin{equation}\n",
    "f_n = p_{n-1}(z_n) + C\\prod_{i=0}^{n-1}(z_n - z_i) \\Rightarrow C = \\frac{f_n - p_{n-1}(z_n)}{\\prod_{i=0}^{n-1}(z_n - z_i)}\n",
    "\\end{equation}\n",
    "Thus we may perform interpolation iteratively."
   ]
  },
  {
   "cell_type": "markdown",
   "metadata": {},
   "source": [
    "**Example:** Last time we have\n",
    "\\begin{equation}\n",
    "(z_0, f_0) = (-1,-3), \\quad\n",
    "(z_1, f_1) = (0,-1), \\quad\n",
    "(z_2, f_2) = (2,4), \\quad\n",
    "(z_3, f_3) = (5,1)\n",
    "\\end{equation}\n",
    "and \n",
    "\\begin{equation}\n",
    "p_3(x) = \\frac{-13}{90}z^3 + \\frac{14}{45}z^2 + \\frac{221}{90}z - 1\n",
    "\\end{equation}"
   ]
  },
  {
   "cell_type": "code",
   "execution_count": 10,
   "metadata": {},
   "outputs": [],
   "source": [
    "z0 = -1; f0 = -3; z1 = 0; f1 = -1; z2 = 2; f2 = 4; z3 = 5; f3 = 1; z4 = 1; f4 = 1\n",
    "p3 = -13*x**3/90 + 14*x**2/45 + 221*x/90 - 1"
   ]
  },
  {
   "cell_type": "markdown",
   "metadata": {},
   "source": [
    "We add a point $(z_4,f_4) = (1,1)$ and obtain $p_4(x)$"
   ]
  },
  {
   "cell_type": "code",
   "execution_count": 9,
   "metadata": {},
   "outputs": [
    {
     "name": "stdout",
     "output_type": "stream",
     "text": [
      "1 1\n"
     ]
    }
   ],
   "source": [
    "z4 = 1; f4 = 1"
   ]
  },
  {
   "cell_type": "code",
   "execution_count": 17,
   "metadata": {},
   "outputs": [
    {
     "data": {
      "text/latex": [
       "$\\displaystyle - \\frac{7}{90}$"
      ],
      "text/plain": [
       "-7/90"
      ]
     },
     "execution_count": 17,
     "metadata": {},
     "output_type": "execute_result"
    }
   ],
   "source": [
    "C = (f4 - p3.subs(x,z4))/((z4-z0)*(z4-z1)*(z4-z2)*(z4-z3))\n",
    "C"
   ]
  },
  {
   "cell_type": "code",
   "execution_count": 18,
   "metadata": {},
   "outputs": [
    {
     "data": {
      "text/latex": [
       "$\\displaystyle - \\frac{7 x^{4}}{90} + \\frac{29 x^{3}}{90} + \\frac{7 x^{2}}{90} + \\frac{151 x}{90} - 1$"
      ],
      "text/plain": [
       "-7*x**4/90 + 29*x**3/90 + 7*x**2/90 + 151*x/90 - 1"
      ]
     },
     "execution_count": 18,
     "metadata": {},
     "output_type": "execute_result"
    }
   ],
   "source": [
    "p4 = p3 + C*(x-z0)*(x-z1)*(x-z2)*(x-z3)\n",
    "sp.expand(p4)"
   ]
  },
  {
   "cell_type": "markdown",
   "metadata": {},
   "source": [
    "**Remark:** the constant $C$ is usually written as $f[z_0,z_1,z_2,z_3,z_4]$. Moreover by iteration we have\n",
    "$$p_n(z) = \\sum_{i=0}^n f[z_0,...,z_n] \\prod_{j=0}^i (z - z_j)$$"
   ]
  },
  {
   "cell_type": "markdown",
   "metadata": {},
   "source": [
    "# Newton Tableau"
   ]
  },
  {
   "cell_type": "markdown",
   "metadata": {},
   "source": [
    "We look at efficient ways to compute $f[z_0,...,z_n]$, iteratively from $f[z_0,...,z_{n-1}]$ and $f[z_1,...,z_n]$. <br>\n",
    "We may first construct $p_{n-1}$ and $q_{n-1}$ before constructing $p_n$ itself, where\n",
    "\\begin{gather}\n",
    "p_{n-1}(z_i) = f_i \\quad i = 0,...,n-1\\\\\n",
    "q_{n-1}(z_i) = f_i \\quad i = 1,...,n\n",
    "\\end{gather}\n",
    "**Claim:** The following polynomial interpolate $\\{(z_i,f_i)\\}_{i=0}^n$\n",
    "\\begin{equation}\n",
    "p_n(z_i) = \\frac{(z - z_n)p_{n-1}(z) - (z - z_0)q_{n-1}(z)}{z_0 - z_n}\n",
    "\\end{equation}\n",
    "Since interpolating polynomial is unique, by comparing coefficient of $z_n$, we have\n",
    "$$f[z_0,...,z_{n}] = \\frac{f[z_0,...,z_{n-1}]-f[z_1,...,z_{n}]}{z_0 - z_n}$$"
   ]
  },
  {
   "cell_type": "code",
   "execution_count": 41,
   "metadata": {},
   "outputs": [],
   "source": [
    "def product(xs,key,i):\n",
    "    \n",
    "    #Key: Forward or Backward\n",
    "    \n",
    "    n = len(xs)-1\n",
    "    l = 1\n",
    "    \n",
    "    for j in range(i):\n",
    "        if key == 'forward':\n",
    "            l *= (x - xs[j])\n",
    "        else:\n",
    "            l *= (x - xs[n-j])\n",
    "\n",
    "    return l"
   ]
  },
  {
   "cell_type": "code",
   "execution_count": 42,
   "metadata": {},
   "outputs": [],
   "source": [
    "def newton(xs,ys,key):\n",
    "    \n",
    "    # Key: Forward or Backward\n",
    "    \n",
    "    n = len(xs)-1\n",
    "    # print(xs)\n",
    "    print(ys)\n",
    "    old_column = ys\n",
    "    \n",
    "    if key == 'forward':\n",
    "        coeff = [fs[0]]\n",
    "    elif key == 'backward':\n",
    "        coeff = [fs[len(fs)-1]]\n",
    "    else:\n",
    "        return 'error'\n",
    "    \n",
    "    for i in range(1,n+1): # Column Index\n",
    "        new_column = [(old_column[j+1] - old_column[j])/(xs[j+i] - xs[j]) for j in range(n-i+1)]\n",
    "        print(new_column)\n",
    "        if key == 'forward':\n",
    "            coeff.append(new_column[0])\n",
    "        else:\n",
    "            coeff.append(new_column[len(new_column)-1])\n",
    "        old_column = new_column\n",
    "    \n",
    "    # print(coeff)\n",
    "    \n",
    "    poly = 0\n",
    "    for i in range(n+1):\n",
    "        poly += coeff[i] * product(xs,key,i)\n",
    "        \n",
    "    return poly"
   ]
  },
  {
   "cell_type": "code",
   "execution_count": 32,
   "metadata": {},
   "outputs": [],
   "source": [
    "zs = [1, 4/3, 5/3, 2]; fs = [np.sin(x) for x in zs]"
   ]
  },
  {
   "cell_type": "code",
   "execution_count": 46,
   "metadata": {},
   "outputs": [
    {
     "name": "stdout",
     "output_type": "stream",
     "text": [
      "[0.8414709848078965, 0.9719379013633127, 0.9954079577517649, 0.9092974268256817]\n",
      "[0.3914007496662487, 0.07041016916535667, -0.25833159277824974]\n",
      "[-0.481485870751338, -0.4931126429154095]\n",
      "[-0.011626772164071542]\n"
     ]
    },
    {
     "data": {
      "text/latex": [
       "$\\displaystyle - 0.0116267721640715 x^{3} - 0.434978782095052 x^{2} + 1.45415019345144 x - 0.166073654384421$"
      ],
      "text/plain": [
       "-0.0116267721640715*x**3 - 0.434978782095052*x**2 + 1.45415019345144*x - 0.166073654384421"
      ]
     },
     "execution_count": 46,
     "metadata": {},
     "output_type": "execute_result"
    }
   ],
   "source": [
    "p = newton(zs,fs,'backward')\n",
    "sp.simplify(p)"
   ]
  }
 ],
 "metadata": {
  "kernelspec": {
   "display_name": "Python 3",
   "language": "python",
   "name": "python3"
  },
  "language_info": {
   "codemirror_mode": {
    "name": "ipython",
    "version": 3
   },
   "file_extension": ".py",
   "mimetype": "text/x-python",
   "name": "python",
   "nbconvert_exporter": "python",
   "pygments_lexer": "ipython3",
   "version": "3.7.4"
  }
 },
 "nbformat": 4,
 "nbformat_minor": 2
}
