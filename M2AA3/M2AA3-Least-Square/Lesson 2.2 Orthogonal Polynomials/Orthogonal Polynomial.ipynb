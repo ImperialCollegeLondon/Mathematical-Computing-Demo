{
 "cells": [
  {
   "cell_type": "code",
   "execution_count": 1,
   "metadata": {},
   "outputs": [],
   "source": [
    "#Setup for Numpy\n",
    "import numpy as np\n",
    "\n",
    "#Setup for Sympy\n",
    "import sympy as sp\n",
    "x = sp.symbols('x') #Variable\n",
    "w = sp.Function('w') #Weight\n",
    "f = sp.Function('f') #Function1\n",
    "g = sp.Function('g') #Function2\n",
    "phi = sp.Function('phi') #Polynomial1\n",
    "phiminus1 = sp.Function('phiminus1') #Polynomial2\n",
    "phiminus2 = sp.Function('phiminus2') #Polynomial3"
   ]
  },
  {
   "cell_type": "markdown",
   "metadata": {},
   "source": [
    "We wish to construct a list of polynomial $\\phi_n(x)$ which is orthogonal with respect to the inner product\n",
    "$$\\langle f(x),g(x) \\rangle = \\int_a^b w(x)f(x)g(x)dx$$\n",
    "where $w(x) > 0$ is the weight function. Let $\\|f(x)\\|^2 = \\langle f(x),f(x) \\rangle$. We may use the following recurrence relation:\n",
    "$$\\phi_j(x) = \\bigg(x - \\frac{\\langle x\\phi_{j-1}(x),\\phi_{j-1}(x) \\rangle}{\\|\\phi_{j-1}(x)\\|^2} \\bigg)\\phi_{j-1}(x) - \\frac{\\|\\phi_{j-1}(x)\\|^2}{\\|\\phi_{j-2}(x)\\|^2}\\phi_{j-2}(x), n \\geq 1$$ \n",
    "where $\\phi_{-1}(x)=0$ and $\\phi_{0}(x)=1$. Therefore we have\n",
    "$$\\phi_{1}(x) = x - \\frac{\\langle x,1 \\rangle}{\\| 1 \\|^2} = x - \\frac{\\int_a^b x w(x)dx}{\\int_a^b w(x)dx}$$\n",
    "Our aim is to define a function 'ortho', which inputs $w(x)$, $a$, $b$ and $r$ and output a list $\\phi_0(x), ..., \\phi_r(x)$."
   ]
  },
  {
   "cell_type": "markdown",
   "metadata": {},
   "source": [
    "Step 1 - Define inner product and norm"
   ]
  },
  {
   "cell_type": "code",
   "execution_count": 2,
   "metadata": {},
   "outputs": [],
   "source": [
    "def inner(w,a,b,f,g):\n",
    "    output = sp.integrate(w*f*g, (x,a,b))\n",
    "    return output\n",
    "\n",
    "def norm(w,a,b,f):\n",
    "    return sp.sqrt(inner(w,a,b,f,f))"
   ]
  },
  {
   "cell_type": "markdown",
   "metadata": {},
   "source": [
    "Step 2 - Write the recursive function"
   ]
  },
  {
   "cell_type": "code",
   "execution_count": 3,
   "metadata": {},
   "outputs": [],
   "source": [
    "def ortho(w,a,b,r):\n",
    "    phiminus2 = 1\n",
    "    phiminus1 = x - inner(w,a,b,x,1)/(norm(w,a,b,1))**2\n",
    "    if r == 0:\n",
    "        return [phiminus2]\n",
    "    elif r == 1:\n",
    "        return [phiminus2,phiminus1]\n",
    "    else:\n",
    "        philist = [phiminus2,phiminus1]\n",
    "        for i in range(r-1):\n",
    "            phi = (x - inner(w,a,b,x*phiminus1,phiminus1)/(norm(w,a,b,phiminus1))**2)*phiminus1 - ((norm(w,a,b,phiminus1)/norm(w,a,b,phiminus2))**2)*phiminus2\n",
    "            phi = sp.simplify(phi)\n",
    "            philist.append(phi)\n",
    "            phiminus2 = phiminus1\n",
    "            phiminus1 = phi\n",
    "    return philist"
   ]
  },
  {
   "cell_type": "code",
   "execution_count": 4,
   "metadata": {},
   "outputs": [
    {
     "name": "stdout",
     "output_type": "stream",
     "text": [
      "[1, x, x**2 - 1/3, x*(x**2 - 3/5), x**4 - 6*x**2/7 + 3/35, x*(63*x**4 - 70*x**2 + 15)/63]\n"
     ]
    }
   ],
   "source": [
    "# Test\n",
    "olist = ortho(1,-1,1,5)\n",
    "print(olist)"
   ]
  },
  {
   "cell_type": "markdown",
   "metadata": {},
   "source": [
    "We may find the roots for the polynomials."
   ]
  },
  {
   "cell_type": "code",
   "execution_count": 32,
   "metadata": {},
   "outputs": [
    {
     "data": {
      "text/plain": [
       "[-sqrt(3)/3, sqrt(3)/3]"
      ]
     },
     "execution_count": 32,
     "metadata": {},
     "output_type": "execute_result"
    }
   ],
   "source": [
    "sp.solve(olist[2],x)"
   ]
  }
 ],
 "metadata": {
  "kernelspec": {
   "display_name": "Python 3",
   "language": "python",
   "name": "python3"
  },
  "language_info": {
   "codemirror_mode": {
    "name": "ipython",
    "version": 3
   },
   "file_extension": ".py",
   "mimetype": "text/x-python",
   "name": "python",
   "nbconvert_exporter": "python",
   "pygments_lexer": "ipython3",
   "version": "3.7.1"
  }
 },
 "nbformat": 4,
 "nbformat_minor": 2
}
