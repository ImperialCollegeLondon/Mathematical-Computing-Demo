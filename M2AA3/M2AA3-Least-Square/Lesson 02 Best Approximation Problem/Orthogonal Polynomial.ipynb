{
 "cells": [
  {
   "cell_type": "markdown",
   "metadata": {},
   "source": [
    "# M2AA3 Chapter 2, Lesson 2 - Generating Orthogonal Polynomials"
   ]
  },
  {
   "cell_type": "code",
   "execution_count": 1,
   "metadata": {},
   "outputs": [],
   "source": [
    "#Setup for Sympy\n",
    "import sympy as sp"
   ]
  },
  {
   "cell_type": "markdown",
   "metadata": {},
   "source": [
    "We wish to construct a list of polynomial $\\phi_n(x)$ which is orthogonal with respect to the inner product\n",
    "$$\\langle f(x),g(x) \\rangle = \\int_a^b w(x)f(x)g(x)dx$$\n",
    "where $w(x) > 0$ is the weight function. Let $\\|f(x)\\|^2 = \\langle f(x),f(x) \\rangle$. We may use the following recurrence relation:\n",
    "$$\\phi_j(x) = \\bigg(x - \\frac{\\langle x\\phi_{j-1}(x),\\phi_{j-1}(x) \\rangle}{\\|\\phi_{j-1}(x)\\|^2} \\bigg)\\phi_{j-1}(x) - \\frac{\\|\\phi_{j-1}(x)\\|^2}{\\|\\phi_{j-2}(x)\\|^2}\\phi_{j-2}(x), j \\geq 1$$ \n",
    "where $\\phi_{-1}(x)=0$ and $\\phi_{0}(x)=1$. Therefore we have\n",
    "$$\\phi_{1}(x) = x - \\frac{\\langle x,1 \\rangle}{\\| 1 \\|^2} = x - \\frac{\\int_a^b x w(x)dx}{\\int_a^b w(x)dx}$$\n",
    "Our aim is to define a function 'ortho', which inputs $w(x)$, $a$, $b$ and $r$ and output a list $\\phi_0(x), ..., \\phi_r(x)$."
   ]
  },
  {
   "cell_type": "markdown",
   "metadata": {},
   "source": [
    "Step 1 - Define inner product and norm"
   ]
  },
  {
   "cell_type": "code",
   "execution_count": 2,
   "metadata": {},
   "outputs": [],
   "source": [
    "x = sp.symbols('x')\n",
    "w = sp.Function('w')\n",
    "f = sp.Function('f')\n",
    "g = sp.Function('g')"
   ]
  },
  {
   "cell_type": "code",
   "execution_count": 3,
   "metadata": {},
   "outputs": [],
   "source": [
    "def inner(w,a,b,f,g):\n",
    "    output = sp.integrate(w*f*g, (x,a,b))\n",
    "    return output\n",
    "\n",
    "def norm(w,a,b,f):\n",
    "    return sp.sqrt(inner(w,a,b,f,f))"
   ]
  },
  {
   "cell_type": "markdown",
   "metadata": {},
   "source": [
    "Step 2 - Write the recursive function"
   ]
  },
  {
   "cell_type": "code",
   "execution_count": 4,
   "metadata": {},
   "outputs": [],
   "source": [
    "phi = sp.Function('phi')\n",
    "phiminus1 = sp.Function('phiminus1')\n",
    "phiminus2 = sp.Function('phiminus2')"
   ]
  },
  {
   "cell_type": "code",
   "execution_count": 5,
   "metadata": {},
   "outputs": [],
   "source": [
    "def ortho(w,a,b,r):\n",
    "    phiminus2 = 1\n",
    "    phiminus1 = x - inner(w,a,b,x,1)/(norm(w,a,b,1))**2\n",
    "    if r == 0:\n",
    "        return [phiminus2]\n",
    "    elif r == 1:\n",
    "        return [phiminus2,phiminus1]\n",
    "    else:\n",
    "        philist = [phiminus2,phiminus1]\n",
    "        for i in range(r-1):\n",
    "            phi = (x - inner(w,a,b,x*phiminus1,phiminus1)/(norm(w,a,b,phiminus1))**2)*phiminus1 - ((norm(w,a,b,phiminus1)/norm(w,a,b,phiminus2))**2)*phiminus2\n",
    "            phi = sp.simplify(phi)\n",
    "            philist.append(phi)\n",
    "            phiminus2 = phiminus1\n",
    "            phiminus1 = phi\n",
    "    return philist"
   ]
  },
  {
   "cell_type": "markdown",
   "metadata": {},
   "source": [
    "## Legendre Polynomials\n",
    "Here is an example of list of polynomials which are orthogonal with $w(x) = 1$. These are called Legendre Polynomials."
   ]
  },
  {
   "cell_type": "code",
   "execution_count": 6,
   "metadata": {},
   "outputs": [
    {
     "name": "stdout",
     "output_type": "stream",
     "text": [
      "[1, x, x**2 - 1/3, x*(x**2 - 3/5), x**4 - 6*x**2/7 + 3/35, x*(63*x**4 - 70*x**2 + 15)/63]\n"
     ]
    }
   ],
   "source": [
    "olist = ortho(1,-1,1,5)\n",
    "print(olist)"
   ]
  },
  {
   "cell_type": "markdown",
   "metadata": {},
   "source": [
    "Observe that they are very similar to the Chebyshev Polynomials. Recall that they are defined as followed:\n",
    "$$L_j(x) = \\frac{2j-1}{j} x L_{j-1}(x) - \\frac{j-1}{j} L_{j-2}(x)$$\n",
    "where $L_0(x) = 1, L_1(x) = x$. If $\\phi_j(x)$ is the orthogonal polynomials obtained, then \n",
    "$\\phi_j(x) = \\frac{L_j(x)}{a_j}, j \\geq 1$, where $a_j$ is the leading coefficient of $L_j(x)$."
   ]
  },
  {
   "cell_type": "markdown",
   "metadata": {},
   "source": [
    "To verify this let's generate the first $r$ Legendre Polynomials."
   ]
  },
  {
   "cell_type": "code",
   "execution_count": 7,
   "metadata": {},
   "outputs": [],
   "source": [
    "P = sp.Function('P')\n",
    "Pminus1 = sp.Function('Pminus1')\n",
    "Pminus2 = sp.Function('Pminus2')"
   ]
  },
  {
   "cell_type": "code",
   "execution_count": 8,
   "metadata": {},
   "outputs": [],
   "source": [
    "def Leb(r):\n",
    "    Pminus2 = 1\n",
    "    Pminus1 = x\n",
    "    if r == 0:\n",
    "        return [Pminus2]\n",
    "    elif r == 1:\n",
    "        return [Pminus2,Pminus1]\n",
    "    else:\n",
    "        Plist = [Pminus2,Pminus1]\n",
    "        for i in range(2,r+1):\n",
    "            P = (sp.Rational(2*i-1,i))*x*Pminus1 - sp.Rational(i-1,i)*Pminus2\n",
    "            P = sp.simplify(P)\n",
    "            Plist.append(P)\n",
    "            Pminus2 = Pminus1\n",
    "            Pminus1 = P\n",
    "    return Plist"
   ]
  },
  {
   "cell_type": "markdown",
   "metadata": {},
   "source": [
    "Then we verify that the polynomials are the same."
   ]
  },
  {
   "cell_type": "code",
   "execution_count": 9,
   "metadata": {},
   "outputs": [
    {
     "name": "stdout",
     "output_type": "stream",
     "text": [
      "[1, x, 3*x**2/2 - 1/2, x*(5*x**2 - 3)/2]\n",
      "[1, x, x**2 - 1/3, x*(x**2 - 3/5)]\n",
      "[1, x, x**2 - 1/3, x*(x**2 - 3/5)]\n",
      "True\n"
     ]
    }
   ],
   "source": [
    "Leblist = Leb(3)\n",
    "print(Leblist)\n",
    "Lebdivided = [1]+[sp.simplify(Leblist[i]/sp.polys.polytools.LC(Leblist[i])) for i in range(1,len(Leblist))]\n",
    "print(Lebdivided)\n",
    "plist = ortho(1,-1,1,3)\n",
    "print(plist)\n",
    "print(plist == Lebdivided)"
   ]
  },
  {
   "cell_type": "markdown",
   "metadata": {},
   "source": [
    "We may find the roots of polynomials."
   ]
  },
  {
   "cell_type": "code",
   "execution_count": 10,
   "metadata": {},
   "outputs": [
    {
     "data": {
      "text/plain": [
       "[0, -sqrt(15)/5, sqrt(15)/5]"
      ]
     },
     "execution_count": 10,
     "metadata": {},
     "output_type": "execute_result"
    }
   ],
   "source": [
    "sp.solve(olist[3],x)"
   ]
  },
  {
   "cell_type": "markdown",
   "metadata": {},
   "source": [
    "## Chebyshev Polynomials\n",
    "Here is another example of list of polynomials which are orthogonal with $w(x) = \\frac{1}{\\sqrt{1 - x^2}}$."
   ]
  },
  {
   "cell_type": "code",
   "execution_count": 11,
   "metadata": {},
   "outputs": [
    {
     "name": "stdout",
     "output_type": "stream",
     "text": [
      "[1, x, x**2 - 1/2, x*(x**2 - 3/4)]\n"
     ]
    }
   ],
   "source": [
    "tlist = ortho(1/sp.sqrt(1-x**2),-1,1,3)\n",
    "print(tlist)"
   ]
  },
  {
   "cell_type": "markdown",
   "metadata": {},
   "source": [
    "Observe that they are very similar to the Chebyshev Polynomials. Recall that they are defined as followed:\n",
    "$$T_j(x) = 2x T_{j-1}(x) - T_{j-2}(x), j \\geq 2$$\n",
    "where $T_0(x) = 1, T_1(x) = x$. It could be proved that $T_j = \\cos (j \\cos^{-1} x)$.\n",
    "If $\\phi_j(x)$ is the orthogonal polynomials obtained, then $\\phi_j(x) = \\frac{T_j(x)}{2^{j-1}}, j \\geq 1$. <br>"
   ]
  },
  {
   "cell_type": "markdown",
   "metadata": {},
   "source": [
    "To verify this let's generate the first $r$ Chebyshev Polynomials."
   ]
  },
  {
   "cell_type": "code",
   "execution_count": 12,
   "metadata": {},
   "outputs": [],
   "source": [
    "T = sp.Function('T')\n",
    "Tminus1 = sp.Function('Tminus1')\n",
    "Tminus2 = sp.Function('Tminus2')"
   ]
  },
  {
   "cell_type": "code",
   "execution_count": 13,
   "metadata": {},
   "outputs": [],
   "source": [
    "def Che(r):\n",
    "    Tminus2 = 1\n",
    "    Tminus1 = x\n",
    "    if r == 0:\n",
    "        return [Tminus2]\n",
    "    elif r == 1:\n",
    "        return [Tminus2,Tminus1]\n",
    "    else:\n",
    "        Tlist = [Tminus2,Tminus1]\n",
    "        for i in range(r-1):\n",
    "            T = 2*x*Tminus1 - Tminus2\n",
    "            T = sp.simplify(T)\n",
    "            Tlist.append(T)\n",
    "            Tminus2 = Tminus1\n",
    "            Tminus1 = T\n",
    "    return Tlist"
   ]
  },
  {
   "cell_type": "markdown",
   "metadata": {},
   "source": [
    "Then we verify that the polynomials are the same."
   ]
  },
  {
   "cell_type": "code",
   "execution_count": 14,
   "metadata": {},
   "outputs": [
    {
     "name": "stdout",
     "output_type": "stream",
     "text": [
      "[1, x, 2*x**2 - 1, x*(4*x**2 - 3)]\n",
      "[1, x, x**2 - 1/2, x*(x**2 - 3/4)]\n",
      "[1, x, x**2 - 1/2, x*(x**2 - 3/4)]\n",
      "True\n"
     ]
    }
   ],
   "source": [
    "Chelist = Che(3)\n",
    "print(Chelist)\n",
    "Chelistdivided = [1] + [sp.simplify(Chelist[i]/(2**(i - 1))) for i in range(1, len(Chelist))]\n",
    "print(Chelistdivided)\n",
    "tlist = ortho(1/sp.sqrt(1-x**2),-1,1,3)\n",
    "print(tlist)\n",
    "print(tlist == Chelistdivided)"
   ]
  },
  {
   "cell_type": "markdown",
   "metadata": {},
   "source": [
    "We may find the roots for the polynomials."
   ]
  },
  {
   "cell_type": "code",
   "execution_count": 15,
   "metadata": {},
   "outputs": [
    {
     "data": {
      "text/plain": [
       "[-sqrt(2)/2, sqrt(2)/2]"
      ]
     },
     "execution_count": 15,
     "metadata": {},
     "output_type": "execute_result"
    }
   ],
   "source": [
    "sp.solve(tlist[2],x)"
   ]
  }
 ],
 "metadata": {
  "kernelspec": {
   "display_name": "Python 3",
   "language": "python",
   "name": "python3"
  },
  "language_info": {
   "codemirror_mode": {
    "name": "ipython",
    "version": 3
   },
   "file_extension": ".py",
   "mimetype": "text/x-python",
   "name": "python",
   "nbconvert_exporter": "python",
   "pygments_lexer": "ipython3",
   "version": "3.7.1"
  }
 },
 "nbformat": 4,
 "nbformat_minor": 2
}
