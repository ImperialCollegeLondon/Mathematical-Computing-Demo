{
 "cells": [
  {
   "cell_type": "code",
   "execution_count": 1,
   "metadata": {},
   "outputs": [
    {
     "name": "stdout",
     "output_type": "stream",
     "text": [
      "Using matplotlib backend: Qt5Agg\n",
      "Populating the interactive namespace from numpy and matplotlib\n"
     ]
    }
   ],
   "source": [
    "%pylab"
   ]
  },
  {
   "cell_type": "code",
   "execution_count": 6,
   "metadata": {},
   "outputs": [],
   "source": [
    "from random import uniform"
   ]
  },
  {
   "cell_type": "markdown",
   "metadata": {},
   "source": [
    "Given $X \\sim \\Gamma(\\alpha,1)$, with density\n",
    "\\begin{equation}\n",
    "f_X(x) \\propto f^*_X(x) = x^{\\alpha-1} e^{-x}, \\quad x > 0\n",
    "\\end{equation}\n",
    "Using the envelope $Y \\sim \\text{Exp}(1/\\alpha)$ with density\n",
    "\\begin{equation}\n",
    "g_Y(x) = \\frac{1}{\\alpha} e^{-x/\\alpha}, x > 0\n",
    "\\end{equation}\n",
    "Also compute the probability of rejection."
   ]
  },
  {
   "cell_type": "code",
   "execution_count": 24,
   "metadata": {},
   "outputs": [],
   "source": [
    "f = lambda alpha,x: (x**(alpha-1))*(np.exp(-x))\n",
    "g = lambda alpha,x: (1/alpha)*(np.exp(-x/alpha))"
   ]
  },
  {
   "cell_type": "markdown",
   "metadata": {},
   "source": [
    "1. Compute $\\displaystyle{ M = \\sup_{x\\in(0,1)} \\frac{f^*_X(x)}{g_Y(x)}}$: <br>\n",
    "Note that \n",
    "\\begin{equation}\n",
    "h(x) = \\frac{f^*_X(x)}{g_Y(x)} = \\frac{1}{\\alpha}x^{\\alpha-1}\\exp\\left(-x\\left(1-\\frac{1}{\\alpha}\\right)\\right)\n",
    "\\end{equation}\n",
    "To find supremum we may consider the quantity\n",
    "\\begin{equation}\n",
    "y = \\ln h(x) = - \\ln \\alpha + (\\alpha - 1) \\ln x - x \\left( 1-\\frac{1}{\\alpha} \\right)\n",
    "\\end{equation}\n",
    "Then \n",
    "\\begin{equation}\n",
    "\\frac{dy}{dx} = \\frac{\\alpha - 1}{x} - \\frac{\\alpha-1}{\\alpha}\n",
    "\\end{equation}\n",
    "This is equal to zero if $\\displaystyle{x = \\alpha}$. In fact, \n",
    "    - if $x < \\alpha$ then $dy/dx < 0$\n",
    "    - if $x > \\alpha$ then $dy/dx > 0$\n",
    "Therefore $y$ (and hence $h$) attains maximum at $x = \\alpha$, therefore $\\displaystyle{M = \\alpha^{\\alpha-2}e^{-(\\alpha-1)}}$"
   ]
  },
  {
   "cell_type": "markdown",
   "metadata": {},
   "source": [
    "2. We may simulate Y by using inversion - \n",
    "Note that the CDF of $Y$ is $G_Y(x) = 1 - e^{-x/\\alpha}$, and $G_Y^{-1}(x) = -\\alpha \\ln(1-x)$"
   ]
  },
  {
   "cell_type": "code",
   "execution_count": 7,
   "metadata": {},
   "outputs": [],
   "source": [
    "def my_rExp(alpha,size):\n",
    "    unisamp = [random.uniform(0,1) for i in range(size)]\n",
    "    return [-alpha*np.log(1-x) for x in unisamp]"
   ]
  },
  {
   "cell_type": "markdown",
   "metadata": {},
   "source": [
    "3. We may then use rejection algorithm to simulate $X$.\n",
    "    - Simulate $U \\sim U(0,1)$ and $X \\sim \\text{Exp}(1/\\alpha)$.\n",
    "    - If $u \\leq M^{-1}f^*_X(x)/g(x)$ then accept $u$, otherwise reject."
   ]
  },
  {
   "cell_type": "code",
   "execution_count": 32,
   "metadata": {},
   "outputs": [],
   "source": [
    "M = lambda alpha: (alpha**(alpha-2))*np.exp(-(alpha-1))\n",
    "h = lambda alpha,x: f(alpha,x)/(M(alpha)*g(alpha,x))"
   ]
  },
  {
   "cell_type": "code",
   "execution_count": 35,
   "metadata": {},
   "outputs": [],
   "source": [
    "def my_rGamma1(alpha,size):\n",
    "    count = 0\n",
    "    samp = []\n",
    "    while count < size:\n",
    "        u = [random.uniform(0,1) for i in range(size)]\n",
    "        exp_samp = my_rExp(alpha,size)\n",
    "        ubound = [h(alpha,x) for x in exp_samp]\n",
    "        idx = [i for i in range(len(u)) if u[i] <= ubound[i]]\n",
    "        new_samp = [u[i] for i in idx]\n",
    "        samp += new_samp\n",
    "        count = len(samp)\n",
    "    return [samp[i] for i in range(size)]"
   ]
  },
  {
   "cell_type": "code",
   "execution_count": 36,
   "metadata": {
    "scrolled": true
   },
   "outputs": [
    {
     "data": {
      "text/plain": [
       "[0.5550633830391315,\n",
       " 0.9927212674394112,\n",
       " 0.6983735483799777,\n",
       " 0.49466601339924643,\n",
       " 0.8106875849861941,\n",
       " 0.9050509249637454,\n",
       " 0.3102623813753336,\n",
       " 0.98171935773631,\n",
       " 0.19668951612576313,\n",
       " 0.36127920327731633]"
      ]
     },
     "execution_count": 36,
     "metadata": {},
     "output_type": "execute_result"
    }
   ],
   "source": [
    "my_rGamma1(2,10)"
   ]
  },
  {
   "cell_type": "markdown",
   "metadata": {},
   "source": [
    "Notice that if $\\tilde{X} = X/\\beta$ then $\\tilde{X} \\sim \\Gamma(\\alpha,\\beta)$. Using scaling we may simulate $\\tilde{X}$."
   ]
  },
  {
   "cell_type": "code",
   "execution_count": 37,
   "metadata": {},
   "outputs": [],
   "source": [
    "def my_rGamma(alpha,beta,size):\n",
    "    return [pt/beta for pt in my_rGamma1(alpha,size)]"
   ]
  },
  {
   "cell_type": "code",
   "execution_count": 38,
   "metadata": {},
   "outputs": [
    {
     "data": {
      "text/plain": [
       "[0.38359214592412577,\n",
       " 0.4966073373612345,\n",
       " 0.2568435931525481,\n",
       " 0.3975477716675325,\n",
       " 0.31461628807870534,\n",
       " 0.43438550365391143,\n",
       " 0.05458809067372872,\n",
       " 0.33602126523235437,\n",
       " 0.22906344692827613,\n",
       " 0.3177055644399481,\n",
       " 0.21831892032313138,\n",
       " 0.3036546829741233,\n",
       " 0.16840905801462613,\n",
       " 0.15654361943179157,\n",
       " 0.2767799227870573,\n",
       " 0.1533971950751764,\n",
       " 0.04082917886722137,\n",
       " 0.07897936636851083,\n",
       " 0.4179233869683552,\n",
       " 0.2489387208380447,\n",
       " 0.31459121925637584,\n",
       " 0.002321617317671887,\n",
       " 0.028271625135758538,\n",
       " 0.20481184134471248,\n",
       " 0.32464579215021194,\n",
       " 0.1317549529978439,\n",
       " 0.23665240812238492,\n",
       " 0.44853126271481225,\n",
       " 0.4848416365454395,\n",
       " 0.39500027839659013]"
      ]
     },
     "execution_count": 38,
     "metadata": {},
     "output_type": "execute_result"
    }
   ],
   "source": [
    "my_rGamma(3,2,30)"
   ]
  }
 ],
 "metadata": {
  "kernelspec": {
   "display_name": "Python 3",
   "language": "python",
   "name": "python3"
  },
  "language_info": {
   "codemirror_mode": {
    "name": "ipython",
    "version": 3
   },
   "file_extension": ".py",
   "mimetype": "text/x-python",
   "name": "python",
   "nbconvert_exporter": "python",
   "pygments_lexer": "ipython3",
   "version": "3.7.6"
  }
 },
 "nbformat": 4,
 "nbformat_minor": 4
}
