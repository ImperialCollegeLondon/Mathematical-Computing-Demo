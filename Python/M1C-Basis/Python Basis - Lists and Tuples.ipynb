{
 "cells": [
  {
   "cell_type": "markdown",
   "metadata": {},
   "source": [
    "# Python Basis - Lists and Tuples\n",
    "\n",
    "This tutorial is about lists and tuples. Only questions 1 and 4 are included."
   ]
  },
  {
   "cell_type": "markdown",
   "metadata": {},
   "source": [
    "## Example 1\n",
    "In this example, we are playing with the string 'The quick brown fox jumps over the lazy dog'."
   ]
  },
  {
   "cell_type": "code",
   "execution_count": 1,
   "metadata": {},
   "outputs": [],
   "source": [
    "string1 = 'The quick brown fox jumps over the lazy dog'"
   ]
  },
  {
   "cell_type": "markdown",
   "metadata": {},
   "source": [
    "### Part (a) [Try it yourself]\n",
    "Create a string containing all the characters between the 1st and the 15th inclusive."
   ]
  },
  {
   "cell_type": "markdown",
   "metadata": {},
   "source": [
    "### Part (b)\n",
    "Create a string containing the first, third, fifth characters, etc, up to the 15th, inclusive."
   ]
  },
  {
   "cell_type": "code",
   "execution_count": 2,
   "metadata": {},
   "outputs": [
    {
     "name": "stdout",
     "output_type": "stream",
     "text": [
      "Teqikbon\n"
     ]
    }
   ],
   "source": [
    "stringb = string1[0:16:2]\n",
    "print(stringb)"
   ]
  },
  {
   "cell_type": "markdown",
   "metadata": {},
   "source": [
    "### Part (c)\n",
    "Confirm that the letters z, x, q, p are in the string, but not B (in upper case). Do this in a single line. (Hint: AS ALWAYS, comprehension is your friend)"
   ]
  },
  {
   "cell_type": "code",
   "execution_count": 3,
   "metadata": {},
   "outputs": [
    {
     "name": "stdout",
     "output_type": "stream",
     "text": [
      "[True, True, True, True, False]\n"
     ]
    }
   ],
   "source": [
    "print([letter in string1 for letter in 'zxqpB'])"
   ]
  },
  {
   "cell_type": "markdown",
   "metadata": {},
   "source": [
    "### Part (d)\n",
    "Convert all letters in the string to upper case."
   ]
  },
  {
   "cell_type": "code",
   "execution_count": 4,
   "metadata": {},
   "outputs": [
    {
     "name": "stdout",
     "output_type": "stream",
     "text": [
      "THE QUICK BROWN FOX JUMPS OVER THE LAZY DOG\n"
     ]
    }
   ],
   "source": [
    "print(string1.upper())"
   ]
  },
  {
   "cell_type": "markdown",
   "metadata": {},
   "source": [
    "### Part (e)\n",
    "Use 'ord' to convert string1 to a list (list1) of integers. (Note that the integers are ASCII codes)"
   ]
  },
  {
   "cell_type": "code",
   "execution_count": 5,
   "metadata": {},
   "outputs": [
    {
     "name": "stdout",
     "output_type": "stream",
     "text": [
      "[84, 104, 101, 32, 113, 117, 105, 99, 107, 32, 98, 114, 111, 119, 110, 32, 102, 111, 120, 32, 106, 117, 109, 112, 115, 32, 111, 118, 101, 114, 32, 116, 104, 101, 32, 108, 97, 122, 121, 32, 100, 111, 103]\n"
     ]
    }
   ],
   "source": [
    "list1 = [ord(n) for n in string1]\n",
    "print(list1)"
   ]
  },
  {
   "cell_type": "markdown",
   "metadata": {},
   "source": [
    "### Part (f)\n",
    "Calculate the cube of each of these integers, putting their values in a list called list2. (Again, use your friend)."
   ]
  },
  {
   "cell_type": "code",
   "execution_count": 6,
   "metadata": {},
   "outputs": [
    {
     "name": "stdout",
     "output_type": "stream",
     "text": [
      "[592704, 1124864, 1030301, 32768, 1442897, 1601613, 1157625, 970299, 1225043, 32768, 941192, 1481544, 1367631, 1685159, 1331000, 32768, 1061208, 1367631, 1728000, 32768, 1191016, 1601613, 1295029, 1404928, 1520875, 32768, 1367631, 1643032, 1030301, 1481544, 32768, 1560896, 1124864, 1030301, 32768, 1259712, 912673, 1815848, 1771561, 32768, 1000000, 1367631, 1092727]\n"
     ]
    }
   ],
   "source": [
    "list2 = [n**3 for n in list1]\n",
    "print(list2)"
   ]
  },
  {
   "cell_type": "markdown",
   "metadata": {},
   "source": [
    "### Part (g)\n",
    "Using zip, create a list of tuples consisting of each of the integers in list1, together with its cube."
   ]
  },
  {
   "cell_type": "code",
   "execution_count": 7,
   "metadata": {},
   "outputs": [
    {
     "name": "stdout",
     "output_type": "stream",
     "text": [
      "[(84, 592704), (104, 1124864), (101, 1030301), (32, 32768), (113, 1442897), (117, 1601613), (105, 1157625), (99, 970299), (107, 1225043), (32, 32768), (98, 941192), (114, 1481544), (111, 1367631), (119, 1685159), (110, 1331000), (32, 32768), (102, 1061208), (111, 1367631), (120, 1728000), (32, 32768), (106, 1191016), (117, 1601613), (109, 1295029), (112, 1404928), (115, 1520875), (32, 32768), (111, 1367631), (118, 1643032), (101, 1030301), (114, 1481544), (32, 32768), (116, 1560896), (104, 1124864), (101, 1030301), (32, 32768), (108, 1259712), (97, 912673), (122, 1815848), (121, 1771561), (32, 32768), (100, 1000000), (111, 1367631), (103, 1092727)]\n"
     ]
    }
   ],
   "source": [
    "list3 = list(zip(list1,list2))\n",
    "print(list3)"
   ]
  },
  {
   "cell_type": "markdown",
   "metadata": {},
   "source": [
    "### Part (h)\n",
    "Do Part (g) without using zip."
   ]
  },
  {
   "cell_type": "code",
   "execution_count": 8,
   "metadata": {},
   "outputs": [
    {
     "name": "stdout",
     "output_type": "stream",
     "text": [
      "[(84, 592704), (104, 1124864), (101, 1030301), (32, 32768), (113, 1442897), (117, 1601613), (105, 1157625), (99, 970299), (107, 1225043), (32, 32768), (98, 941192), (114, 1481544), (111, 1367631), (119, 1685159), (110, 1331000), (32, 32768), (102, 1061208), (111, 1367631), (120, 1728000), (32, 32768), (106, 1191016), (117, 1601613), (109, 1295029), (112, 1404928), (115, 1520875), (32, 32768), (111, 1367631), (118, 1643032), (101, 1030301), (114, 1481544), (32, 32768), (116, 1560896), (104, 1124864), (101, 1030301), (32, 32768), (108, 1259712), (97, 912673), (122, 1815848), (121, 1771561), (32, 32768), (100, 1000000), (111, 1367631), (103, 1092727)]\n"
     ]
    }
   ],
   "source": [
    "list4 = list(map(lambda x: x**3, list1))\n",
    "print(list3)"
   ]
  },
  {
   "cell_type": "markdown",
   "metadata": {},
   "source": [
    "## Example 2\n",
    "In this example, we are working with the list [1,3,5,7,9]"
   ]
  },
  {
   "cell_type": "code",
   "execution_count": 9,
   "metadata": {},
   "outputs": [],
   "source": [
    "list1 = [1,3,5,7,9]"
   ]
  },
  {
   "cell_type": "markdown",
   "metadata": {},
   "source": [
    "### Part (a) - (d)\n",
    "Create the following data from list1 <br>\n",
    "(a) '[1, 3, 5, 7, 9]' <br>\n",
    "(b) ['1', '3', '5', '7', '9'] <br>\n",
    "(c) ['A', 'C', 'E', 'H', 'I'] <br>\n",
    "(d) 'ACEHI'"
   ]
  },
  {
   "cell_type": "code",
   "execution_count": 10,
   "metadata": {},
   "outputs": [
    {
     "name": "stdout",
     "output_type": "stream",
     "text": [
      "[1, 3, 5, 7, 9]\n",
      "['1', '3', '5', '7', '9']\n",
      "['A', 'C', 'E', 'G', 'I']\n",
      "ACEGI\n"
     ]
    }
   ],
   "source": [
    "# Part (a)\n",
    "A = str(list1)\n",
    "print(A)\n",
    "\n",
    "# Part (b)\n",
    "B = [str(n) for n in list1]\n",
    "print(B)\n",
    "\n",
    "# Part (c)\n",
    "C = [str(chr(n+64)) for n in list1]\n",
    "print(C)\n",
    "\n",
    "# Part (d)\n",
    "D = \"\".join(C)\n",
    "print(D)"
   ]
  },
  {
   "cell_type": "markdown",
   "metadata": {},
   "source": [
    "### Part (e) - (h)\n",
    "Create list from the following <br>\n",
    "(e) '[1, 3, 5, 7, 9]' <br>\n",
    "(f) ['1', '3', '5', '7', '9'] <br>\n",
    "(g) ['A', 'C', 'E', 'H', 'I'] <br>\n",
    "(h) 'ACEHI'"
   ]
  },
  {
   "cell_type": "code",
   "execution_count": 11,
   "metadata": {},
   "outputs": [
    {
     "name": "stdout",
     "output_type": "stream",
     "text": [
      "[1, 3, 5, 7, 9]\n",
      "[1, 3, 5, 7, 9]\n",
      "[1, 3, 5, 7, 9]\n",
      "[1, 3, 5, 7, 9]\n"
     ]
    }
   ],
   "source": [
    "# Part (e)\n",
    "E = eval(A)\n",
    "print(E)\n",
    "\n",
    "# Part (f)\n",
    "F = [eval(n) for n in B]\n",
    "print(F)\n",
    "\n",
    "# Part (g)\n",
    "G = [eval(n) for n in B]\n",
    "print(G)\n",
    "\n",
    "# Part (h)\n",
    "H = eval(eval([D[n] for n in list(range(0,5))][0]))\n",
    "print(H)"
   ]
  }
 ],
 "metadata": {
  "kernelspec": {
   "display_name": "Python 3",
   "language": "python",
   "name": "python3"
  },
  "language_info": {
   "codemirror_mode": {
    "name": "ipython",
    "version": 3
   },
   "file_extension": ".py",
   "mimetype": "text/x-python",
   "name": "python",
   "nbconvert_exporter": "python",
   "pygments_lexer": "ipython3",
   "version": "3.7.1"
  }
 },
 "nbformat": 4,
 "nbformat_minor": 2
}
