{
 "cells": [
  {
   "cell_type": "markdown",
   "metadata": {},
   "source": [
    "# Python Number Theory 04 - Exponentiation\n",
    "Let $f_c(x)$ be a function which outputs the remainder of $x$ when divided by $c$. Python has a function 'pow(a,b,c)' which find $f_c(a^b)$. This tutorial demonstrates how to perform the same operation without the built-in function.\n",
    "\n",
    "For convenience of tests let us import randint."
   ]
  },
  {
   "cell_type": "code",
   "execution_count": 2,
   "metadata": {},
   "outputs": [],
   "source": [
    "from random import randint"
   ]
  },
  {
   "cell_type": "markdown",
   "metadata": {},
   "source": [
    "## Way 1 - Direct Calculation\n",
    "It makes sense, but evaluating $a^b$ is not ideal when $a$ and $b$ are enormous."
   ]
  },
  {
   "cell_type": "code",
   "execution_count": 3,
   "metadata": {},
   "outputs": [],
   "source": [
    "def mypow1(a,b,c):\n",
    "    return (a**b) % c"
   ]
  },
  {
   "cell_type": "markdown",
   "metadata": {},
   "source": [
    "## Way 2 - Loop\n",
    "Why not use a loop as followed: <br> \n",
    "Set $d_0 = 1$. For $k \\geq 0$, we have $d_{k+1} = f_c(ad_k)$. Repeat until $k$ reaches $b$. Then $f_c(a^b) = d_b$ "
   ]
  },
  {
   "cell_type": "code",
   "execution_count": 4,
   "metadata": {},
   "outputs": [],
   "source": [
    "def mypow2(a,b,c):\n",
    "    # initialize d\n",
    "    d = 1\n",
    "    # loop b times\n",
    "    for r in range(b):\n",
    "        # multiply by a and reduce modulo c\n",
    "        d = (d*a) % c\n",
    "    return d"
   ]
  },
  {
   "cell_type": "markdown",
   "metadata": {},
   "source": [
    "## Way 3 - Binary Exponentiation\n",
    "You may think that the algorithm above is fast enough. However, there is a much faster way to execute 'pow(a,b,c)'. This is called the binary exponentiation.\n",
    "\n",
    "First write $b$ in binary form, i.e.\n",
    "$$b = \\sum_{i=1}^{n} b_i 2^i, b_i \\in \\{0,1\\}$$\n",
    "\n",
    "For each of the binary digits of b in reverse order:\n",
    "- If the digit is 1, multiply d by a and reduce modulo c, making this the new value of d.\n",
    "- Whether or not the digit is 1, square a and reduce modulo c, making this the new value of a.\n",
    "\n",
    "The final value of d is $f_c(a^b)$."
   ]
  },
  {
   "cell_type": "code",
   "execution_count": 5,
   "metadata": {},
   "outputs": [],
   "source": [
    "def mypow3(a,b,c):\n",
    "    \n",
    "    # Initialization\n",
    "    d = 1\n",
    "    binlist = [eval(n) for n in list(format(b,'b'))]  #b in binary string\n",
    "    n = len(binlist)  #length of binlist\n",
    "    \n",
    "    # loop\n",
    "    for i in range(1, n+1): #Very Tricky Indeed\n",
    "        # Update d\n",
    "        if binlist[n - i] == 1: #Doing from 0 (n-n) to n-1\n",
    "            d = (d*a) % c\n",
    "        # Update a\n",
    "        a = (a**2) % c\n",
    "    return d"
   ]
  },
  {
   "cell_type": "code",
   "execution_count": 15,
   "metadata": {},
   "outputs": [
    {
     "name": "stdout",
     "output_type": "stream",
     "text": [
      "1 1 1 1\n"
     ]
    }
   ],
   "source": [
    "test = [randint(2,10) for n in range(3)]\n",
    "\n",
    "result0 = pow(test[0], test[1], test[2])\n",
    "result1 = mypow1(test[0], test[1], test[2])\n",
    "result2 = mypow2(test[0], test[1], test[2])\n",
    "result3 = mypow3(test[0], test[1], test[2])\n",
    "\n",
    "print(result0, result1, result2, result3)"
   ]
  }
 ],
 "metadata": {
  "kernelspec": {
   "display_name": "Python 3",
   "language": "python",
   "name": "python3"
  },
  "language_info": {
   "codemirror_mode": {
    "name": "ipython",
    "version": 3
   },
   "file_extension": ".py",
   "mimetype": "text/x-python",
   "name": "python",
   "nbconvert_exporter": "python",
   "pygments_lexer": "ipython3",
   "version": "3.7.1"
  }
 },
 "nbformat": 4,
 "nbformat_minor": 2
}
