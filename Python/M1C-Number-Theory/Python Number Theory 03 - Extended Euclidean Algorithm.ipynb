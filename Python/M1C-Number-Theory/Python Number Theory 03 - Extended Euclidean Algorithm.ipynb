{
 "cells": [
  {
   "cell_type": "markdown",
   "metadata": {},
   "source": [
    "# Python Number Theory 03 - Extended Euclidean Algorithm\n",
    "This tutorial demonstrates how to <br>\n",
    "- Execute Euclidean Algorithm and Extended Euclidean Algorithm (EEA), and <br>\n",
    "- Using EEA to find an inverse of number under modulus."
   ]
  },
  {
   "cell_type": "markdown",
   "metadata": {},
   "source": [
    "## Part (a) - Extended Euclidean Algorithm\n",
    "Given an integer $a$ and a positive integer $b$. By division algorithm we have $a = qb + r$, where $0 \\leq r < b$. It can be proven that $\\gcd (a,b) = \\gcd (b,r)$. Note that $r$ is always smaller than $b$, so we can apply the theorem for many times to find $\\gcd (a,b)$. This is the Euclid Algorithm. <br>\n",
    "\n",
    "Note that all remainders $r$ can be written in the form $r = \\lambda a + \\mu b$. Applying this theorem for many times to find $\\lambda$ and $\\mu$ such that $\\lambda a + \\mu b = \\gcd (a,b)$. This is the Extended Euclidean Algorithm. <br>\n",
    "\n",
    "Let us see one example - finding $\\gcd (135,40)$: <br>\n",
    "135 = (3)40 + 15 [q=3, r=15] <br>\n",
    " 40 = (2)15 + 10 [q=2, r=10] <br>\n",
    " 15 = (1)10 + 5  [q=1, r=5]  <br>\n",
    " 10 = (2)5  + 0  [q=5, r=0]  <br>\n",
    "So $\\gcd (135,40) = 5$. <br>\n",
    "\n",
    "Observe \n",
    "135 = (1)135 + (0)40 <br>\n",
    " 40 = (0)135 + (1)40 <br>\n",
    " 15 = (1 - (3)( 0))135 + ( 0 - (3)( 1))40 = ( 1)135 + (- 3)40 <br>\n",
    " 10 = (0 - (2)( 1))135 + ( 0 - (2)(-3))40 = (-2)135 + (  7)40 <br>\n",
    "  5 = (1 - (1)(-2))135 + (-3 - (1)( 7))40 = ( 3)135 + (-10)40 <br>\n",
    "\n",
    "So $\\lambda = 3$ and $\\mu = -10$.\n",
    "\n",
    "So we can formulate the EEA as followed: <br>\n",
    "$\\lambda_0 = 1, \\mu_0 = 0, h_0 = a$ <br>\n",
    "$\\lambda_1 = 0, \\mu_1 = 1, h_1 = b$ <br>\n",
    "For $k \\geq 0$ <br>\n",
    "$q_{k} = $ quotient of $h_{k}$ divided by $h_{k+1}$ <br>\n",
    "$h_{k+2} = h_{k} - q_{k}h_{k+1}$ <br>\n",
    "$\\lambda_{k+2} = \\lambda_{k} - q_{k}\\lambda_{k+1}$ <br>\n",
    "$\\mu_{k+2} = \\mu_{k} - q_{k}\\mu_{k+1}$ <br>\n",
    "\n",
    "Repeat until $h_{k}$ = 0. Then $h_{k-1}$ is the $gcd(a,b)$, $\\lambda_{k-1}$ is $\\lambda$ required and $\\mu_{k-1}$ is $\\mu$ required. Using this to write a function for returning gcd, $\\lambda$ and $\\mu$."
   ]
  },
  {
   "cell_type": "code",
   "execution_count": 2,
   "metadata": {},
   "outputs": [],
   "source": [
    "def ehcf(a,b):\n",
    "    # Initialization\n",
    "    p1 = 1\n",
    "    q1 = 0\n",
    "    h1 = a\n",
    "    p2 = 0\n",
    "    q2 = 1\n",
    "    h2 = b\n",
    "    \n",
    "    # Loop\n",
    "    while h2 != 0:\n",
    "        r = h1//h2\n",
    "        p3 = p1 - r*p2\n",
    "        q3 = q1 - r*q2\n",
    "        h3 = h1 - r*h2\n",
    "        p1 = p2\n",
    "        q1 = q2\n",
    "        h1 = h2\n",
    "        p2 = p3\n",
    "        q2 = q3\n",
    "        h2 = h3\n",
    "\n",
    "    # Output\n",
    "    return [p1, q1, h1]"
   ]
  },
  {
   "cell_type": "code",
   "execution_count": 3,
   "metadata": {},
   "outputs": [
    {
     "data": {
      "text/plain": [
       "[3, -10, 5]"
      ]
     },
     "execution_count": 3,
     "metadata": {},
     "output_type": "execute_result"
    }
   ],
   "source": [
    "# Test\n",
    "ehcf(135,40)"
   ]
  },
  {
   "cell_type": "markdown",
   "metadata": {},
   "source": [
    "## Part (b) - Inverse of Number\n",
    "Given integers $a$ and positive integer $n$ such that $a$ and $n$ are coprimes ($\\gcd (a,n) = 1$). We would like to find an integer $x$ such that $ax \\equiv 1 (mod n)$. Here $x$ is called the inverse of $a$. <br>\n",
    "\n",
    "It is simple, since we know from EEA that there exists $\\lambda$ and $\\mu$ such that $a\\lambda + n\\mu = 1$. Thus $a\\lambda - 1 = (-\\mu)n$, which is divisible by $n$. Thus $a\\lambda \\equiv 1 (mod n)$, and $\\lambda$ is the inverse we want.\n",
    "\n",
    "We can modify the program to find $x$ such that $ax = b (mod n)$, where $b$ is divisible by $\\gcd (a,n)$. (Try yourself!) We can also ensure that $x$ is positive."
   ]
  },
  {
   "cell_type": "code",
   "execution_count": 5,
   "metadata": {},
   "outputs": [],
   "source": [
    "def inverse(e,n):\n",
    "    # You must load the echf function before executing this function.\n",
    "    result = ehcf(e,n)\n",
    "    \n",
    "    # Check if there exists an inverse.\n",
    "    if result[2] != 1:\n",
    "        d = 0\n",
    "    else:\n",
    "        d = result[0]\n",
    "    \n",
    "    # Ensure that the output is positive\n",
    "    while d < 0:\n",
    "        d += e*n\n",
    "        \n",
    "    return result[0]"
   ]
  },
  {
   "cell_type": "code",
   "execution_count": 6,
   "metadata": {},
   "outputs": [
    {
     "data": {
      "text/plain": [
       "6"
      ]
     },
     "execution_count": 6,
     "metadata": {},
     "output_type": "execute_result"
    }
   ],
   "source": [
    "# Test\n",
    "inverse(3,17)"
   ]
  }
 ],
 "metadata": {
  "kernelspec": {
   "display_name": "Python 3",
   "language": "python",
   "name": "python3"
  },
  "language_info": {
   "codemirror_mode": {
    "name": "ipython",
    "version": 3
   },
   "file_extension": ".py",
   "mimetype": "text/x-python",
   "name": "python",
   "nbconvert_exporter": "python",
   "pygments_lexer": "ipython3",
   "version": "3.7.1"
  }
 },
 "nbformat": 4,
 "nbformat_minor": 2
}
