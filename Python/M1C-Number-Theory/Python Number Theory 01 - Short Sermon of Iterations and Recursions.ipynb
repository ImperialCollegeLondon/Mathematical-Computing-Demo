{
 "cells": [
  {
   "cell_type": "markdown",
   "metadata": {},
   "source": [
    "# Python Number Theory 01 - Short Sermon of Iterations and Recursions\n",
    "This tutorial demonstrate how to use loops and recursions to <br>\n",
    "- Evaluating factorials, and <br>\n",
    "- Generating list of primes by Sieve of Eratosthenes"
   ]
  },
  {
   "cell_type": "markdown",
   "metadata": {},
   "source": [
    "## Example 1 - Evaluating Factorials\n",
    "Write a iterative version and recursive version of 'factorial' function which outputs the factorial of a non-negative integer. <br> Be aware that you can't input a large integer for recursive version of 'factorial' function due to limited recursive depth."
   ]
  },
  {
   "cell_type": "code",
   "execution_count": 1,
   "metadata": {},
   "outputs": [],
   "source": [
    "# Iteration\n",
    "def factorial1(r):\n",
    "    x = 1   # Base Case\n",
    "    \n",
    "    for i in range(1,r+1):  # Loop\n",
    "        x *= i\n",
    "        \n",
    "    return x"
   ]
  },
  {
   "cell_type": "code",
   "execution_count": 2,
   "metadata": {},
   "outputs": [],
   "source": [
    "# Recursion\n",
    "def factorial2(r):\n",
    "    if r<=0:  # Base Case\n",
    "        return 1\n",
    "    \n",
    "    else:  # Recursive Step\n",
    "        return r * factorial2(r-1)"
   ]
  },
  {
   "cell_type": "code",
   "execution_count": 3,
   "metadata": {},
   "outputs": [
    {
     "name": "stdout",
     "output_type": "stream",
     "text": [
      "720 720\n",
      "True\n"
     ]
    }
   ],
   "source": [
    "# Test\n",
    "r = 6\n",
    "print(factorial1(r), factorial2(r))\n",
    "print(factorial1(r) == factorial2(r))"
   ]
  },
  {
   "cell_type": "markdown",
   "metadata": {},
   "source": [
    "## Example 2 - Sieve of Eratosthenes\n",
    "Use loop with comprehension, find the list of primes which are smaller than certain integer $n$."
   ]
  },
  {
   "cell_type": "code",
   "execution_count": 4,
   "metadata": {},
   "outputs": [],
   "source": [
    "from numpy import floor, sqrt  #Import floor and square-root function for better performance"
   ]
  },
  {
   "cell_type": "code",
   "execution_count": 5,
   "metadata": {},
   "outputs": [],
   "source": [
    "def primes(n):\n",
    "    list1 = list(range(2,n+1))  #Initial List\n",
    "    \n",
    "    for i in range(2,int(floor(sqrt(n)))+1): \n",
    "        #Extracting elements which are not divisible by i (except i itself).\n",
    "        list1 = [x for x in list1 if x%i > 0 or x == i]\n",
    "                 \n",
    "    return(list1)"
   ]
  },
  {
   "cell_type": "code",
   "execution_count": 6,
   "metadata": {},
   "outputs": [
    {
     "name": "stdout",
     "output_type": "stream",
     "text": [
      "[2, 3, 5, 7, 11, 13, 17, 19, 23, 29, 31, 37, 41, 43, 47, 53, 59, 61, 67, 71, 73, 79, 83, 89, 97]\n"
     ]
    }
   ],
   "source": [
    "# Test\n",
    "print(primes(100))"
   ]
  }
 ],
 "metadata": {
  "kernelspec": {
   "display_name": "Python 3",
   "language": "python",
   "name": "python3"
  },
  "language_info": {
   "codemirror_mode": {
    "name": "ipython",
    "version": 3
   },
   "file_extension": ".py",
   "mimetype": "text/x-python",
   "name": "python",
   "nbconvert_exporter": "python",
   "pygments_lexer": "ipython3",
   "version": "3.7.1"
  }
 },
 "nbformat": 4,
 "nbformat_minor": 2
}
