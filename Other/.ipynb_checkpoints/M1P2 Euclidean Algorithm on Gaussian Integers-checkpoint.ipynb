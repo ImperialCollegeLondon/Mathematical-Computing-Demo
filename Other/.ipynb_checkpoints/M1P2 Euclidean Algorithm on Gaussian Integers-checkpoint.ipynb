{
 "cells": [
  {
   "cell_type": "code",
   "execution_count": 5,
   "metadata": {},
   "outputs": [],
   "source": [
    "import math\n",
    "import cmath"
   ]
  },
  {
   "cell_type": "markdown",
   "metadata": {},
   "source": [
    "The set $\\mathbb{Z}[i]$ is defined as $\\{a + bi: a,b \\in \\mathbb{Z} \\}$. It is a ring over normal addition and multiplication. The Norm of an element $x = a + bi$ is defined as $N(x) = a^2 + b^2$. The ehcf function find the hcf of the numbers $a = a_1 + ia_2$ and $b = b_1 + ib_2$, both of which are in $\\mathbb{Z}[i]$. "
   ]
  },
  {
   "cell_type": "code",
   "execution_count": 10,
   "metadata": {},
   "outputs": [],
   "source": [
    "def ehcf(x,y):\n",
    "    \n",
    "    # Initialization\n",
    "    p1 = 1\n",
    "    q1 = 0\n",
    "    h1 = x\n",
    "    p2 = 0\n",
    "    q2 = 1\n",
    "    h2 = y\n",
    "    \n",
    "    # Loop\n",
    "    while h2 != 0:\n",
    "        z = h1/h2\n",
    "        r = round(z.real) + round(z.imag)*1j\n",
    "        p3 = p1 - r*p2\n",
    "        q3 = q1 - r*q2\n",
    "        h3 = h1 - r*h2\n",
    "        p1 = p2\n",
    "        q1 = q2\n",
    "        h1 = h2\n",
    "        p2 = p3\n",
    "        q2 = q3\n",
    "        h2 = h3\n",
    "\n",
    "    # Output\n",
    "    return [p1, q1, h1]"
   ]
  },
  {
   "cell_type": "code",
   "execution_count": 14,
   "metadata": {},
   "outputs": [
    {
     "name": "stdout",
     "output_type": "stream",
     "text": [
      "[(1+0j), (-2+1j), (-1+1j)]\n"
     ]
    },
    {
     "data": {
      "text/plain": [
       "True"
      ]
     },
     "execution_count": 14,
     "metadata": {},
     "output_type": "execute_result"
    }
   ],
   "source": [
    "x = 10+8j\n",
    "y = 3+5j\n",
    "pqr = ehcf(x,y)\n",
    "print(pqr)\n",
    "pqr[0]*x + pqr[1]*y == pqr[2] "
   ]
  }
 ],
 "metadata": {
  "kernelspec": {
   "display_name": "Python 3",
   "language": "python",
   "name": "python3"
  },
  "language_info": {
   "codemirror_mode": {
    "name": "ipython",
    "version": 3
   },
   "file_extension": ".py",
   "mimetype": "text/x-python",
   "name": "python",
   "nbconvert_exporter": "python",
   "pygments_lexer": "ipython3",
   "version": "3.7.1"
  }
 },
 "nbformat": 4,
 "nbformat_minor": 2
}
