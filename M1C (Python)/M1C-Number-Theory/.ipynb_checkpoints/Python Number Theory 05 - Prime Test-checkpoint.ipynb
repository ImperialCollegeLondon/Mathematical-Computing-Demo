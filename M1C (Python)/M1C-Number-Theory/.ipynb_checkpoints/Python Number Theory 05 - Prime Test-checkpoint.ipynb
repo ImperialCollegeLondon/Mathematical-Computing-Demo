{
 "cells": [
  {
   "cell_type": "markdown",
   "metadata": {},
   "source": [
    "# Python Number Theory 05 - Prime Test\n",
    "\n",
    "We would like to determine whether a number is prime by using certain criteria. For convenience of testing, let us input randint function."
   ]
  },
  {
   "cell_type": "code",
   "execution_count": 10,
   "metadata": {},
   "outputs": [],
   "source": [
    "from random import randint #This is to generate random integers."
   ]
  },
  {
   "cell_type": "markdown",
   "metadata": {},
   "source": [
    "## Way 1 - Fermat Test\n",
    "\n",
    "Recall Fermat Little Theorem, that if $n$ is a prime, then $\\forall a \\in \\mathbb{Z}_{>0}, a^n \\equiv a (\\text{mod} n)$. Even though its converse is not true, we may use that as a necessary condition to test whether a number is prime."
   ]
  },
  {
   "cell_type": "code",
   "execution_count": 11,
   "metadata": {},
   "outputs": [],
   "source": [
    "def fermat_test(n,a):\n",
    "    return (pow(a,n,n)==a)\n",
    "\n",
    "def isprime1(n):\n",
    "    if n == 1: #Edge Case for 1\n",
    "        return False\n",
    "    else:\n",
    "        if n == 2 or n == 3: #Edge Case for 2 and 3\n",
    "            return True\n",
    "        else:\n",
    "            avec = [randint(2,n-2) for i in range(0,10)]\n",
    "            test1 = [fermat_test(n,a) for a in avec]\n",
    "            return all (test1) #Return True only if any of the entries are True"
   ]
  },
  {
   "cell_type": "markdown",
   "metadata": {},
   "source": [
    "It does fairly well. It correctly tells us that $41288709514771182799$ is prime."
   ]
  },
  {
   "cell_type": "code",
   "execution_count": 12,
   "metadata": {},
   "outputs": [
    {
     "data": {
      "text/plain": [
       "True"
      ]
     },
     "execution_count": 12,
     "metadata": {},
     "output_type": "execute_result"
    }
   ],
   "source": [
    "isprime1(41288709514771182799)"
   ]
  },
  {
   "cell_type": "markdown",
   "metadata": {},
   "source": [
    "But it couldn't avoid pseudoprime, or Carmichael numbers. Let's say $561 = 3 \\times 11 \\times 17$."
   ]
  },
  {
   "cell_type": "code",
   "execution_count": 13,
   "metadata": {},
   "outputs": [
    {
     "data": {
      "text/plain": [
       "True"
      ]
     },
     "execution_count": 13,
     "metadata": {},
     "output_type": "execute_result"
    }
   ],
   "source": [
    "isprime1(561)"
   ]
  },
  {
   "cell_type": "markdown",
   "metadata": {},
   "source": [
    "# Way 2 - Miller-Rabin Test\n",
    "Here is a better one. Given an integer $n \\geq 2$, suppose $n-1 = 2^s \\times d$, where $d$ is an odd number. The integer $n$ is said to pass the Miller-Rabin Test to base $a$ if either $a^d \\equiv 1 (\\text{mod} n)$ (Fermat Test), or there exists at least one $r$, with $0 \\leq r < s$, such that $a^{2^r \\times d} \\equiv -1 (\\text{mod} n)$. All primes can pass the Miller-Rabin Test, but the converse is not true. Nevertheless, we can use this as a necessary condition to test whether it is prime."
   ]
  },
  {
   "cell_type": "code",
   "execution_count": 14,
   "metadata": {},
   "outputs": [],
   "source": [
    "def power_of_two_divisor(n):\n",
    "    s = 0 #initialize s\n",
    "    \n",
    "    while n%2 == 0: #loop\n",
    "        s += 1\n",
    "        n = n//2\n",
    "    \n",
    "    return [s,n]\n",
    "\n",
    "def miller_rabin_test(n,a): #n is input, a is base\n",
    "    #Obtain 's' and 'd'\n",
    "    sd = power_of_two_divisor(n-1)\n",
    "    s = sd[0]\n",
    "    d = sd[1]\n",
    "    \n",
    "    if pow(a, d, n) == 1: #Preliminary Test\n",
    "        return True\n",
    "    else: #Test by Comprehension\n",
    "        test1 = [(pow(a,(2**r)*d,n) == n-1) for r in range(0, s)]\n",
    "        return any (test1) #Return True if any of the entries are True\n",
    "        \n",
    "def isprime2(n):\n",
    "    if n == 1: #Edge Case for 1\n",
    "        return False\n",
    "    else:\n",
    "        if n == 2 or n == 3: #Edge Case for 2 and 3\n",
    "            return True\n",
    "        else:\n",
    "            avec = [randint(2,n-2) for i in range(0,10)]\n",
    "            test2 = [miller_rabin_test(n,a) for a in avec]\n",
    "            return all (test2) #Return True only if any of the entries are True"
   ]
  },
  {
   "cell_type": "markdown",
   "metadata": {},
   "source": [
    "Well done, mate!"
   ]
  },
  {
   "cell_type": "code",
   "execution_count": 15,
   "metadata": {},
   "outputs": [
    {
     "data": {
      "text/plain": [
       "False"
      ]
     },
     "execution_count": 15,
     "metadata": {},
     "output_type": "execute_result"
    }
   ],
   "source": [
    "isprime2(561)"
   ]
  },
  {
   "cell_type": "markdown",
   "metadata": {},
   "source": [
    "In fact, we can use this to develop a next-prime function, which inputs an integer and output the smallest (probable) prime which is greater than the input."
   ]
  },
  {
   "cell_type": "code",
   "execution_count": 18,
   "metadata": {},
   "outputs": [],
   "source": [
    "from itertools import count"
   ]
  },
  {
   "cell_type": "code",
   "execution_count": 21,
   "metadata": {},
   "outputs": [],
   "source": [
    "def nextprime(n):\n",
    "    for i in count():\n",
    "        if n%2 == 0 or n == 1:\n",
    "            n += 1 #for even number or 1\n",
    "        else:\n",
    "            n += 2 #for odd\n",
    "        if isprime2(n) == True:\n",
    "            return n\n",
    "            break"
   ]
  },
  {
   "cell_type": "code",
   "execution_count": 22,
   "metadata": {},
   "outputs": [
    {
     "data": {
      "text/plain": [
       "29"
      ]
     },
     "execution_count": 22,
     "metadata": {},
     "output_type": "execute_result"
    }
   ],
   "source": [
    "nextprime(26)"
   ]
  }
 ],
 "metadata": {
  "kernelspec": {
   "display_name": "Python 3",
   "language": "python",
   "name": "python3"
  },
  "language_info": {
   "codemirror_mode": {
    "name": "ipython",
    "version": 3
   },
   "file_extension": ".py",
   "mimetype": "text/x-python",
   "name": "python",
   "nbconvert_exporter": "python",
   "pygments_lexer": "ipython3",
   "version": "3.7.1"
  }
 },
 "nbformat": 4,
 "nbformat_minor": 2
}
