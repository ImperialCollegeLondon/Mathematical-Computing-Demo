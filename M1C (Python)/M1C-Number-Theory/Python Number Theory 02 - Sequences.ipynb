{
 "cells": [
  {
   "cell_type": "markdown",
   "metadata": {},
   "source": [
    "# Python Number Theory 02 - Sequences\n",
    "This tutorial demonstrate the generation of <br>\n",
    "- Aliquot Sequence, <br>\n",
    "- Fibonacci Sequence, and <br>\n",
    "- Hailstone Sequence"
   ]
  },
  {
   "cell_type": "markdown",
   "metadata": {},
   "source": [
    "## Example 01 - Aliquot Sequence"
   ]
  },
  {
   "cell_type": "markdown",
   "metadata": {},
   "source": [
    "### Part (a)\n",
    "Write a function for summing the proper divisor (excluding the number itself) of the input."
   ]
  },
  {
   "cell_type": "code",
   "execution_count": 1,
   "metadata": {},
   "outputs": [],
   "source": [
    "def division_sum(r):\n",
    "    x = 0\n",
    "    for i in range(1,r):\n",
    "        if (r % i == 0):\n",
    "            x = i + x\n",
    "    return x"
   ]
  },
  {
   "cell_type": "code",
   "execution_count": 2,
   "metadata": {},
   "outputs": [
    {
     "data": {
      "text/plain": [
       "6"
      ]
     },
     "execution_count": 2,
     "metadata": {},
     "output_type": "execute_result"
    }
   ],
   "source": [
    "# Testing Cell\n",
    "division_sum(6)"
   ]
  },
  {
   "cell_type": "markdown",
   "metadata": {},
   "source": [
    "### Part (b)\n",
    "\n",
    "Let $\\sigma(x)$ be a function which returns the sum of proper divisor of $x$. (Note: $\\sigma(0) = 0$) The Aliquot Sequence $(s_n)$ with positive integer $k$ is defined as followed:\n",
    "- $s_0 = k$\n",
    "- $s_{n+1} = \\sigma(s_n)$ for all $n \\geq 0$.\n",
    "\n",
    "Write an aliquot sequence function that returns intermediate values, and terminates either when 'max_iterations' has been reached or when it encounters a value that has occurred before."
   ]
  },
  {
   "cell_type": "code",
   "execution_count": 3,
   "metadata": {},
   "outputs": [],
   "source": [
    "def aliquot(r,max_iteration):\n",
    "    rlist = [r]\n",
    "    for i in range(max_iteration):\n",
    "        r = division_sum(r)\n",
    "        if r in rlist:\n",
    "            break\n",
    "        else:\n",
    "            rlist.append(r)\n",
    "    return rlist"
   ]
  },
  {
   "cell_type": "code",
   "execution_count": 4,
   "metadata": {},
   "outputs": [
    {
     "data": {
      "text/plain": [
       "[24, 36, 55, 17, 1, 0]"
      ]
     },
     "execution_count": 4,
     "metadata": {},
     "output_type": "execute_result"
    }
   ],
   "source": [
    "# Test\n",
    "aliquot(24,20)"
   ]
  },
  {
   "cell_type": "markdown",
   "metadata": {},
   "source": [
    "## Example 02 - Fibonacci Sequence\n",
    "The Fibonacci Sequence $F_n$ is defined as followed:\n",
    "- $F_1 = F_2 = 1$\n",
    "- $F_{n+2} = F_{n+1} + F_n$ for $n \\geq 1$"
   ]
  },
  {
   "cell_type": "markdown",
   "metadata": {},
   "source": [
    "### Part (a)\n",
    "Write a iterative version and recursive function of 'fibonacci' function which inputs positive integers $n$ and outputs $F_n$."
   ]
  },
  {
   "cell_type": "code",
   "execution_count": 5,
   "metadata": {},
   "outputs": [],
   "source": [
    "# Iteration\n",
    "def fibonacci1(r):\n",
    "    xnminus1 = 1\n",
    "    xnminus2 = 1\n",
    "    for i in range(r-2):\n",
    "        x = xnminus1 + xnminus2\n",
    "        xnminus2 = xnminus1\n",
    "        xnminus1 = x\n",
    "    if (r - 2 <= 0):\n",
    "        x = 1\n",
    "    return x"
   ]
  },
  {
   "cell_type": "code",
   "execution_count": 6,
   "metadata": {},
   "outputs": [],
   "source": [
    "# Recursion\n",
    "def fibonacci2(r):\n",
    "    # Base Case: fibonacci2(1) = fibonacci2(2) = 1\n",
    "    if r<=2:\n",
    "        return 1\n",
    "    # Recursive Step\n",
    "    else: \n",
    "        return fibonacci2(r-1)+fibonacci2(r-2)"
   ]
  },
  {
   "cell_type": "markdown",
   "metadata": {},
   "source": [
    "### Part (b)\n",
    "Write a recursive function called 'fibonacci_recpair' that, given a positive integer $r$, returns the tuple $(F_{r-1}, F_r)$.\n",
    "Hence write a version of 'fibonacci' function which calls 'fibonacci_recpair' and return $F_r$."
   ]
  },
  {
   "cell_type": "code",
   "execution_count": 7,
   "metadata": {},
   "outputs": [],
   "source": [
    "# Fibonacci Number (Recursion with List)\n",
    "def fibonacci_recpair(r):\n",
    "    # Base case\n",
    "    if r<=1:\n",
    "        return (0,1)\n",
    "    # Recursive Step\n",
    "    else:\n",
    "        pair = fibonacci_recpair(r-1)\n",
    "        return (pair[1], pair[0]+pair[1])"
   ]
  },
  {
   "cell_type": "code",
   "execution_count": 8,
   "metadata": {},
   "outputs": [],
   "source": [
    "# Third Version of Fibonacci Function\n",
    "def fibonacci3(r):\n",
    "    return fibonacci_recpair(r) [1]"
   ]
  },
  {
   "cell_type": "markdown",
   "metadata": {},
   "source": [
    "### Part (c)\n",
    "Explore how time module could measure the running time of a process. Use this module to test the performance of three versions of 'fibonacci' function against each other (both consistency and efficiency)."
   ]
  },
  {
   "cell_type": "code",
   "execution_count": 9,
   "metadata": {},
   "outputs": [],
   "source": [
    "# Input process_time from time module. This is for finding running time of a process\n",
    "from time import process_time"
   ]
  },
  {
   "cell_type": "code",
   "execution_count": 10,
   "metadata": {},
   "outputs": [],
   "source": [
    "r = 40"
   ]
  },
  {
   "cell_type": "code",
   "execution_count": 11,
   "metadata": {},
   "outputs": [
    {
     "name": "stdout",
     "output_type": "stream",
     "text": [
      "102334155\n",
      "0.0\n"
     ]
    }
   ],
   "source": [
    "# Version 1 (Iteration)\n",
    "start1 = process_time()\n",
    "a = fibonacci1(r)\n",
    "end1 = process_time()\n",
    "print(a)\n",
    "print(end1 - start1)"
   ]
  },
  {
   "cell_type": "code",
   "execution_count": 12,
   "metadata": {},
   "outputs": [
    {
     "name": "stdout",
     "output_type": "stream",
     "text": [
      "102334155\n",
      "55.0\n"
     ]
    }
   ],
   "source": [
    "# Version 2 (Recursion)\n",
    "start2 = process_time()\n",
    "b = fibonacci2(r)\n",
    "end2 = process_time()\n",
    "print(b)\n",
    "print(end2 - start2)"
   ]
  },
  {
   "cell_type": "code",
   "execution_count": 13,
   "metadata": {},
   "outputs": [
    {
     "name": "stdout",
     "output_type": "stream",
     "text": [
      "102334155\n",
      "0.0\n"
     ]
    }
   ],
   "source": [
    "# Version 3 (Recursion of List)\n",
    "start3 = process_time()\n",
    "c = fibonacci3(r)\n",
    "end3 = process_time()\n",
    "print(c)\n",
    "print(end3 - start3)"
   ]
  },
  {
   "cell_type": "code",
   "execution_count": 14,
   "metadata": {},
   "outputs": [
    {
     "name": "stdout",
     "output_type": "stream",
     "text": [
      "102334155 102334155 102334155\n",
      "True\n"
     ]
    }
   ],
   "source": [
    "# Check Consistency\n",
    "print(a,b,c)\n",
    "print(a==b and a==c)"
   ]
  },
  {
   "cell_type": "markdown",
   "metadata": {},
   "source": [
    "## Example 03 - Hailstone Sequence\n",
    "\n",
    "Define a function $f$ for positive integer $n$. If $n$ is even, then $f(n) = \\frac{n}{2}$, otherwise $f(n) = 3n + 1$. The hailstone sequence $(a_n)$ for with positive integer $k$ is defined as followed:\n",
    "- $a_0$ = k\n",
    "- $a_{n+1} = f(a_n)$ for $n \\geq 0$\n",
    "\n",
    "It is observed that $k = 1$, the sequence will be repeating in the pattern $1, 8, 4, 2, 1, 8, 4, 2, 1, ...$, and thus we can terminate the hailstone sequence when $a_n$ = 1. Write a hailstone sequence function that returns intermediate values, and terminates either when max_iterations has been reached or the value 1 is encountered. (Thinking question: will the sequence always end at 1?)"
   ]
  },
  {
   "cell_type": "code",
   "execution_count": 15,
   "metadata": {},
   "outputs": [],
   "source": [
    "def hailstone(n, max_iterations):\n",
    "    thelist = [n]\n",
    "    for i in range(max_iterations):\n",
    "        if n%2 == 0:\n",
    "            n = n//2\n",
    "        else:\n",
    "            n = 3*n + 1\n",
    "        thelist.append(n)\n",
    "        if n == 1:\n",
    "            break\n",
    "    return(thelist)"
   ]
  },
  {
   "cell_type": "code",
   "execution_count": 16,
   "metadata": {},
   "outputs": [
    {
     "data": {
      "text/plain": [
       "[7, 22, 11, 34, 17, 52, 26, 13, 40, 20, 10, 5, 16, 8, 4, 2, 1]"
      ]
     },
     "execution_count": 16,
     "metadata": {},
     "output_type": "execute_result"
    }
   ],
   "source": [
    "# Test\n",
    "hailstone(7,20)"
   ]
  }
 ],
 "metadata": {
  "kernelspec": {
   "display_name": "Python 3",
   "language": "python",
   "name": "python3"
  },
  "language_info": {
   "codemirror_mode": {
    "name": "ipython",
    "version": 3
   },
   "file_extension": ".py",
   "mimetype": "text/x-python",
   "name": "python",
   "nbconvert_exporter": "python",
   "pygments_lexer": "ipython3",
   "version": "3.7.1"
  }
 },
 "nbformat": 4,
 "nbformat_minor": 2
}
