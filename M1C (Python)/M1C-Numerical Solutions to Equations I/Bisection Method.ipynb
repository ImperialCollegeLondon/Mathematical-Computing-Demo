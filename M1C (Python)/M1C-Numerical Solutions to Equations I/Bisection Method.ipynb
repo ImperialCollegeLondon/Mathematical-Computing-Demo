{
 "cells": [
  {
   "cell_type": "markdown",
   "metadata": {},
   "source": [
    "Consider a continuous function $f(x)$. Assume there is a root of $f(x) = 0$ in $(a,b)$ (a way to determine this is to see if there is a sign change between $a$ and $b$, and use Intermediate Value Theorem. In other words, we see if $f(a)f(b) < 0$.) If there is a root in between, then consider $c = \\frac{a+b}{2}$, the mid-point of the interval. If $f(a)f(c) < 0$, then there is a root in $(a,c)$. Otherwise, if $f(a)f(c) > 0$, then $f(b)f(c) < 0$, i.e. there is a root in $(c,b)$."
   ]
  },
  {
   "cell_type": "markdown",
   "metadata": {},
   "source": [
    "## Preparation"
   ]
  },
  {
   "cell_type": "code",
   "execution_count": 2,
   "metadata": {},
   "outputs": [
    {
     "name": "stdout",
     "output_type": "stream",
     "text": [
      "Using matplotlib backend: Qt5Agg\n",
      "Populating the interactive namespace from numpy and matplotlib\n"
     ]
    }
   ],
   "source": [
    "%matplotlib inline\n",
    "%pylab"
   ]
  },
  {
   "cell_type": "markdown",
   "metadata": {},
   "source": [
    "## Code"
   ]
  },
  {
   "cell_type": "code",
   "execution_count": 9,
   "metadata": {},
   "outputs": [],
   "source": [
    "def intbis(f, xrange, max_iteration, tolerance):\n",
    "    \n",
    "    # List of Tuples\n",
    "    listofint = [tuple(xrange)]\n",
    "    \n",
    "    # Loop\n",
    "    for n in range(max_iteration):\n",
    "        while abs(xrange[1]-xrange[0]) > 2*tolerance:\n",
    "            \n",
    "            c = (xrange[0]+xrange[1])/2\n",
    "            \n",
    "            # Consider Special Case when the solution is at c.\n",
    "            if f(c)==0:\n",
    "                print('The exact solution is x = {}'.format(c))\n",
    "                break\n",
    "            \n",
    "            # General Case\n",
    "            else:\n",
    "                if f(xrange[0])*f(c) > 0:\n",
    "                    xrange[0] = c\n",
    "                else:\n",
    "                    xrange[1] = c\n",
    "            \n",
    "            # Storage\n",
    "            listofint.append(tuple(xrange))\n",
    "            \n",
    "    print('The solution lies between {} and {}'.format(xrange[0], xrange[1]))\n",
    "    return listofint"
   ]
  },
  {
   "cell_type": "markdown",
   "metadata": {},
   "source": [
    "## Testing Cell"
   ]
  },
  {
   "cell_type": "code",
   "execution_count": 12,
   "metadata": {},
   "outputs": [
    {
     "name": "stdout",
     "output_type": "stream",
     "text": [
      "The solution lies between 2.0945510864257812 and 2.094552993774414\n",
      "[(2, 2.5), (2, 2.25), (2, 2.125), (2.0625, 2.125), (2.09375, 2.125), (2.09375, 2.109375), (2.09375, 2.1015625), (2.09375, 2.09765625), (2.09375, 2.095703125), (2.09375, 2.0947265625), (2.09423828125, 2.0947265625), (2.094482421875, 2.0947265625), (2.094482421875, 2.0946044921875), (2.09454345703125, 2.0946044921875), (2.09454345703125, 2.094573974609375), (2.09454345703125, 2.0945587158203125), (2.0945510864257812, 2.0945587158203125), (2.0945510864257812, 2.094554901123047), (2.0945510864257812, 2.094552993774414)]\n"
     ]
    }
   ],
   "source": [
    "# For obtaining estimates\n",
    "f = lambda x: x**3-2*x-5\n",
    "y = intbis(f, [2,2.5], 30, 10**(-6))\n",
    "print(y)"
   ]
  },
  {
   "cell_type": "code",
   "execution_count": 13,
   "metadata": {},
   "outputs": [
    {
     "data": {
      "text/plain": [
       "[<matplotlib.lines.Line2D at 0x2e6243ab6a0>]"
      ]
     },
     "execution_count": 13,
     "metadata": {},
     "output_type": "execute_result"
    },
    {
     "data": {
      "image/png": "[encoded data removed]",
      "text/plain": [
       "<Figure size 432x288 with 1 Axes>"
      ]
     },
     "metadata": {
      "needs_background": "light"
     },
     "output_type": "display_data"
    }
   ],
   "source": [
    "# For seeing accuracy\n",
    "lowerlim = [xrange[0] for xrange in y]\n",
    "upperlim = [xrange[1] for xrange in y]\n",
    "lowerzero = [f(x) for x in lowerlim]\n",
    "upperzero = [f(x) for x in upperlim]\n",
    "plot(lowerzero)\n",
    "plot(upperzero)"
   ]
  }
 ],
 "metadata": {
  "kernelspec": {
   "display_name": "Python 3",
   "language": "python",
   "name": "python3"
  },
  "language_info": {
   "codemirror_mode": {
    "name": "ipython",
    "version": 3
   },
   "file_extension": ".py",
   "mimetype": "text/x-python",
   "name": "python",
   "nbconvert_exporter": "python",
   "pygments_lexer": "ipython3",
   "version": "3.7.1"
  }
 },
 "nbformat": 4,
 "nbformat_minor": 2
}
