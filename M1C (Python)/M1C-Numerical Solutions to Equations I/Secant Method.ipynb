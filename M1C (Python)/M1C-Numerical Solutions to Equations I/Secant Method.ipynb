{
 "cells": [
  {
   "cell_type": "markdown",
   "metadata": {},
   "source": [
    "Secant Method is similar to Newton Method, except it does not require $f(x)$ to be differentiable. Consider the equation $f(x) = 0$, which $f(x)$ is continuous. Given two reasonable starting point $x_0$ and $x_1$, we may approximate the solution of $f(x) = 0$ by linearizing $f(x)$ (but this time replace '$f'(x)$' by $\\frac{f(x_1) - f(x_0)}{x_1 - x_0}$):\n",
    "$$f(x) \\sim f(x_0) + \\frac{f(x_1) - f(x_0)}{x_1 - x_0}(x - x_0)$$\n",
    "If $f(x) = 0$ then\n",
    "$$f(x_0) + \\frac{f(x_1) - f(x_0)}{x_1 - x_0}(x - x_0) \\sim 0$$\n",
    "$$\\Rightarrow x \\sim x_0 - f(x_0) \\frac{x_1 - x_0}{f(x_1) - f(x_0)} = \\frac{x_0 f(x_1) - f(x_0)x_1}{f(x_1) - f(x_0)}$$\n",
    "Thus we may apply this iteratively to obtain a better solution. i.e. set\n",
    "$$x_{n+2} \\sim \\frac{x_{n} f(x_{n+1}) - f(x_{n})x_{n+1}}{f(x_{n+1}) - f(x_{n})}, n \\geq 0$$"
   ]
  },
  {
   "cell_type": "markdown",
   "metadata": {},
   "source": [
    "## Preparation"
   ]
  },
  {
   "cell_type": "code",
   "execution_count": 1,
   "metadata": {},
   "outputs": [
    {
     "name": "stdout",
     "output_type": "stream",
     "text": [
      "Using matplotlib backend: Qt5Agg\n",
      "Populating the interactive namespace from numpy and matplotlib\n"
     ]
    }
   ],
   "source": [
    "%matplotlib inline\n",
    "%pylab"
   ]
  },
  {
   "cell_type": "markdown",
   "metadata": {},
   "source": [
    "## Code"
   ]
  },
  {
   "cell_type": "code",
   "execution_count": 2,
   "metadata": {},
   "outputs": [],
   "source": [
    "def secant(f, x0, x1, max_iteration, tolerance):\n",
    "    \n",
    "    # Initialization\n",
    "    xlist = [x0, x1]\n",
    "    \n",
    "    # Loop\n",
    "    for n in range(max_iteration):\n",
    "        xnew = (x0*f(x1) - f(x0)*x1)/(f(x1)-f(x0))\n",
    "        xlist.append(xnew)\n",
    "        if abs(xnew-x1) < tolerance:\n",
    "            break\n",
    "        else:\n",
    "            x0 = x1\n",
    "            x1 = xnew\n",
    "    \n",
    "    actual_iteration=len(xlist)-1\n",
    "    print(actual_iteration)\n",
    "    \n",
    "    return xlist"
   ]
  },
  {
   "cell_type": "markdown",
   "metadata": {},
   "source": [
    "## Testing Cell"
   ]
  },
  {
   "cell_type": "code",
   "execution_count": 3,
   "metadata": {},
   "outputs": [
    {
     "name": "stdout",
     "output_type": "stream",
     "text": [
      "5\n",
      "[8, 6, 5.1875, 5.014218009478673, 5.000218483722962, 5.000000258555917]\n"
     ]
    }
   ],
   "source": [
    "# For obtaining estimates\n",
    "f = lambda x: x**2+2*x-35\n",
    "y = secant(f, 8, 6, 30, 10**(-3))\n",
    "print(y)"
   ]
  },
  {
   "cell_type": "code",
   "execution_count": 4,
   "metadata": {},
   "outputs": [
    {
     "data": {
      "text/plain": [
       "[<matplotlib.lines.Line2D at 0x24a0d29cba8>]"
      ]
     },
     "execution_count": 4,
     "metadata": {},
     "output_type": "execute_result"
    },
    {
     "data": {
      "image/png": "[encoded data removed]",
      "text/plain": [
       "<Figure size 432x288 with 1 Axes>"
      ]
     },
     "metadata": {
      "needs_background": "light"
     },
     "output_type": "display_data"
    }
   ],
   "source": [
    "# For seeing accuracy\n",
    "estzero = [f(i) for i in y]\n",
    "plot(estzero)"
   ]
  }
 ],
 "metadata": {
  "kernelspec": {
   "display_name": "Python 3",
   "language": "python",
   "name": "python3"
  },
  "language_info": {
   "codemirror_mode": {
    "name": "ipython",
    "version": 3
   },
   "file_extension": ".py",
   "mimetype": "text/x-python",
   "name": "python",
   "nbconvert_exporter": "python",
   "pygments_lexer": "ipython3",
   "version": "3.7.1"
  }
 },
 "nbformat": 4,
 "nbformat_minor": 2
}
