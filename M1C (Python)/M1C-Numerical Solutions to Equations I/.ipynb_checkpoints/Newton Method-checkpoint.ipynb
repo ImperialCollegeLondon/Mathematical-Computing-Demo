{
 "cells": [
  {
   "cell_type": "markdown",
   "metadata": {},
   "source": [
    "Consider the equation $f(x) = 0$, which $f(x)$ is one-time differentiable. Given a reasonable starting point $x_0$, we may approximate the solution of $f(x) = 0$ by linearizing $f(x)$:\n",
    "$$f(x) \\sim f(x_0) + f'(x_0)(x-x_0)$$\n",
    "If $f(x) = 0$ then\n",
    "$$f(x_0) + f'(x_0)(x-x_0) \\sim 0 \\Rightarrow x \\sim x_0 - \\frac{f(x_0)}{f'(x_0)}$$\n",
    "Thus we may apply this iteratively to obtain a better solution. i.e. set\n",
    "$$x_{n+1} \\sim x_n - \\frac{f(x_n)}{f'(x_n)},  n \\geq 0$$"
   ]
  },
  {
   "cell_type": "markdown",
   "metadata": {},
   "source": [
    "## Preparation"
   ]
  },
  {
   "cell_type": "code",
   "execution_count": 1,
   "metadata": {},
   "outputs": [
    {
     "name": "stdout",
     "output_type": "stream",
     "text": [
      "Using matplotlib backend: Qt5Agg\n",
      "Populating the interactive namespace from numpy and matplotlib\n"
     ]
    }
   ],
   "source": [
    "%matplotlib inline\n",
    "%pylab"
   ]
  },
  {
   "cell_type": "code",
   "execution_count": 2,
   "metadata": {},
   "outputs": [],
   "source": [
    "import sympy as sp\n",
    "x = sp.symbols('x')\n",
    "f = sp.Function('f')\n",
    "Df = sp.Function('Df')"
   ]
  },
  {
   "cell_type": "markdown",
   "metadata": {},
   "source": [
    "## Code"
   ]
  },
  {
   "cell_type": "code",
   "execution_count": 3,
   "metadata": {},
   "outputs": [],
   "source": [
    "def newton_raphson(f, x0, max_iteration, tolerance):\n",
    "    \n",
    "    # Initialization\n",
    "    y = x0\n",
    "    ylist = [y]\n",
    "    Df = sp.diff(f,x)\n",
    "    \n",
    "    # Loop\n",
    "    for n in range(max_iteration):\n",
    "        ynew = y - f.evalf(subs={x: y})/Df.evalf(subs={x: y})\n",
    "        ylist.append(ynew)\n",
    "        if abs(ynew-y) < tolerance:\n",
    "            break\n",
    "        else:\n",
    "            y = ynew\n",
    "    \n",
    "    actual_iteration=len(ylist)-1\n",
    "    print(actual_iteration)\n",
    "    \n",
    "    return ylist"
   ]
  },
  {
   "cell_type": "markdown",
   "metadata": {},
   "source": [
    "## Testing Cell"
   ]
  },
  {
   "cell_type": "code",
   "execution_count": 4,
   "metadata": {},
   "outputs": [
    {
     "name": "stdout",
     "output_type": "stream",
     "text": [
      "6\n",
      "[2.5, 2.16417910447761, 2.09713535581055, 2.09455523239045, 2.09455148155025, 2.09455148154233, 2.09455148154233]\n"
     ]
    }
   ],
   "source": [
    "# For obtaining estimates\n",
    "f = x**3-2*x-5\n",
    "yran = newton_raphson(f, 2.5, 30, 10**(-16))\n",
    "print(yran)"
   ]
  },
  {
   "cell_type": "code",
   "execution_count": 5,
   "metadata": {},
   "outputs": [
    {
     "data": {
      "text/plain": [
       "[<matplotlib.lines.Line2D at 0x2267cbfe5f8>]"
      ]
     },
     "execution_count": 5,
     "metadata": {},
     "output_type": "execute_result"
    },
    {
     "data": {
      "image/png": "[encoded data removed]",
      "text/plain": [
       "<Figure size 432x288 with 1 Axes>"
      ]
     },
     "metadata": {
      "needs_background": "light"
     },
     "output_type": "display_data"
    }
   ],
   "source": [
    "# For seeing accuracy\n",
    "estzero = [f.evalf(subs={x: i}) for i in yran]\n",
    "plot(estzero)"
   ]
  }
 ],
 "metadata": {
  "kernelspec": {
   "display_name": "Python 3",
   "language": "python",
   "name": "python3"
  },
  "language_info": {
   "codemirror_mode": {
    "name": "ipython",
    "version": 3
   },
   "file_extension": ".py",
   "mimetype": "text/x-python",
   "name": "python",
   "nbconvert_exporter": "python",
   "pygments_lexer": "ipython3",
   "version": "3.7.1"
  }
 },
 "nbformat": 4,
 "nbformat_minor": 2
}
